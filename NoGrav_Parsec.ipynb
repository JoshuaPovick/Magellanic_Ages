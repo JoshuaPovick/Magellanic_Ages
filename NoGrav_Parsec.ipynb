{
 "cells": [
  {
   "cell_type": "markdown",
   "metadata": {},
   "source": [
    "This is a notebook to fit ages with PARSEC without low LOGG"
   ]
  },
  {
   "cell_type": "code",
   "execution_count": 1,
   "metadata": {},
   "outputs": [],
   "source": [
    "##################################\n",
    "### Import the usual libraries ###\n",
    "##################################\n",
    "\n",
    "import numpy as np\n",
    "\n",
    "import astropy\n",
    "from astropy.io import fits, ascii\n",
    "from astropy.table import Table, Column\n",
    "import astropy.coordinates as coord\n",
    "from astropy.coordinates import SkyCoord\n",
    "import astropy.constants as const\n",
    "import astropy.units as u\n",
    "\n",
    "import pandas as pd\n",
    "\n",
    "import matplotlib\n",
    "from matplotlib.patches import Ellipse\n",
    "import matplotlib.pyplot as plt\n",
    "%matplotlib inline\n",
    "matplotlib.rcParams.update({'font.size': 18}) #make plots more readable\n",
    "\n",
    "import MagellanicStream as ms\n",
    "\n",
    "import dlnpyutils\n",
    "\n",
    "import warnings\n",
    "warnings.filterwarnings('ignore')\n",
    "\n",
    "##############################\n",
    "### User defined functions ###\n",
    "##############################\n",
    "\n",
    "#find duplicates in data\n",
    "def dups(data):\n",
    "    list_data = list(data)\n",
    "    keys = []\n",
    "    values = []\n",
    "    not_uniq = list(set([x for x in list_data if list_data.count(x)>1]))\n",
    "    for i in range(len(not_uniq)):\n",
    "        keys.append(not_uniq[i])\n",
    "        values.append(np.where(data==not_uniq[i]))\n",
    "    idx = dict(zip(keys, values))\n",
    "    return not_uniq, idx\n",
    "\n",
    "#calculate absolute mag\n",
    "def absmag(magnitude,distance,par):\n",
    "    ''' !!! Parallax must have units of mas and distances must have units of kpc!!! '''\n",
    "    absm = []\n",
    "    if par == True: #if distance is given as parallax\n",
    "        dist = np.reciprocal(distance)*1000\n",
    "        absm.append(magnitude-5.0*np.log10(dist)+5.0)\n",
    "        absm = np.squeeze(np.array(absm))\n",
    "    else: #if distance is given as distance\n",
    "        absm.append(magnitude-5.0*np.log10(distance*1000)+5.0)\n",
    "        absm = np.squeeze(np.array(absm))\n",
    "    return absm\n",
    "\n",
    "def dist2LMCtest(ra, dec, alph0, delt0, pa, io):\n",
    "    ra1 = np.copy(ra)\n",
    "    dec1 = np.copy(dec)\n",
    "    ra1 = np.radians(ra1)\n",
    "    dec1 = np.radians(dec1)\n",
    "    alph0 = np.radians(alph0) #np.radians(82.25) #ra of LMC center\n",
    "    delt0 = np.radians(delt0) #np.radians(-69.5) #dec of LMC center\n",
    "    sd = np.sin(delt0)\n",
    "    cd = np.cos(delt0)\n",
    "    d0 = 49.9\n",
    "    io = io*np.pi/180 #np.radians(io) #inclination #25.86\n",
    "    pa = pa*np.pi/180 #np.radians(pa+90) #np.radians(149.37+90)  #position angle of line-of-nodes\n",
    "    cosr = cd*np.cos(dec1)*np.cos(ra1-alph0)+sd*np.sin(dec1)\n",
    "    sinrcosph = -np.cos(dec1)*np.sin(ra1-alph0)\n",
    "    sinrsinph = cd*np.sin(dec1)-sd*np.cos(dec1)*np.cos(ra1-alph0)\n",
    "    dis = d0*np.cos(io)/(np.cos(io)*cosr-np.sin(io)*np.cos(pa)*sinrsinph+np.sin(io)*np.sin(pa)*sinrcosph)\n",
    "    return dis\n",
    "\n",
    "def sal(MH,aM): #Salaris correction\n",
    "    return MH + np.log(0.638*(10**(aM))+0.362)\n",
    "\n",
    "def mad(dat): #median absolute deviation\n",
    "    return np.median(np.absolute(dat - np.median(dat)))\n",
    "\n",
    "#######################\n",
    "### Age of Universe ###\n",
    "#######################\n",
    "\n",
    "'''\n",
    "@article{riess2019large,\n",
    "  title={Large Magellanic Cloud Cepheid Standards Provide a 1\\% Foundation for the Determination of the Hubble Constant and Stronger Evidence for Physics Beyond LambdaCDM},\n",
    "  author={Riess, Adam G and Casertano, Stefano and Yuan, Wenlong and Macri, Lucas M and Scolnic, Dan},\n",
    "  journal={arXiv preprint arXiv:1903.07603},\n",
    "  year={2019}\n",
    "}\n",
    "'''\n",
    "\n",
    "#Value 74.03 \\pm 1.42 (km/s)/Mpc\n",
    "\n",
    "H0 = 74.03*(u.km/u.s)/u.Mpc\n",
    "hertz = H0.to(u.km/u.s/u.pc).to(u.km/u.s/u.km)\n",
    "tage = (1/hertz).to(u.yr)\n",
    "ageU = tage.value"
   ]
  },
  {
   "cell_type": "code",
   "execution_count": 2,
   "metadata": {},
   "outputs": [],
   "source": [
    "#########################\n",
    "### Import fits files ###\n",
    "#########################\n",
    "\n",
    "#isochrone website http://stev.oapd.inaf.it/cgi-bin/cmd\n",
    "''' Ages used 8 to 10.1 steps 0.15'''\n",
    "''' Metallicity used -2.6 to 0.1 steps 0.099'''\n",
    "\n",
    "parsecall = ascii.read('/Users/joshpovick/Desktop/Research/Magellanic_Ages/logisochrones.dat', \\\n",
    "                    format='basic', delimiter='\\s')\n",
    "\n",
    "rgb = np.where(parsecall['label']==3)\n",
    "parsec = parsecall[rgb]\n",
    "\n",
    "#DR16\n",
    "lmcdr16 = fits.getdata('/Users/joshpovick/Desktop/Research/Magellanic_Ages/lmc_rgbmembersdist.dr16beta.fits',1)\n",
    "clnr = np.where((lmcdr16['FE_H']>-9999.0)&(lmcdr16['AK_TARG']>-9999.0)&(lmcdr16['LOGG']>0.0)&\\\n",
    "                (lmcdr16['M_H_ERR']>-90.0))\n",
    "\n",
    "clndr16 = lmcdr16[clnr]\n",
    "\n",
    "#Diane Feuillet\n",
    "pdfout = fits.getdata('/Users/joshpovick/Desktop/Research/Magellanic_Ages/LMC_DR16_all_PDF.fits' , 1)\n",
    "clnpdfout = pdfout[clnr]"
   ]
  },
  {
   "cell_type": "markdown",
   "metadata": {},
   "source": [
    "Labels for PARSEC isochrones\n",
    "\n",
    "0 = PMS, pre main sequence\n",
    "\n",
    "1 = MS, main sequence\n",
    "\n",
    "2 = SGB, subgiant branch, or Hertzsprung gap for more intermediate+massive stars\n",
    "\n",
    "3 = RGB, red giant branch, or the quick stage of red giant for intermediate+massive stars\n",
    "\n",
    "4 = CHEB, core He-burning for low mass stars, or the very initial stage of CHeB for intermediate+massive stars\n",
    "\n",
    "5 = still CHEB, the blueward part of the Cepheid loop of intermediate+massive stars\n",
    "\n",
    "6 = still CHEB, the redward part of the Cepheid loop of intermediate+massive stars\n",
    "\n",
    "7 = EAGB, the early asymptotic giant branch, or a quick stage of red giant for massive stars\n",
    "\n",
    "8 = TPAGB, the thermally pulsing asymptotic giant branch\n",
    "\n",
    "9 = post-AGB (in preparation!)"
   ]
  },
  {
   "cell_type": "code",
   "execution_count": 3,
   "metadata": {},
   "outputs": [
    {
     "data": {
      "image/png": "[encoded data removed]",
      "text/plain": [
       "<Figure size 864x720 with 1 Axes>"
      ]
     },
     "metadata": {
      "needs_background": "light"
     },
     "output_type": "display_data"
    }
   ],
   "source": [
    "#Metallicity Age\n",
    "plt.figure(figsize=[12,10])\n",
    "plt.scatter(np.log10(parsec['Zini']/0.02),parsec['logAge'],c='k',cmap='jet')\n",
    "plt.ylabel(r'Log(Age) [yr]')\n",
    "plt.xlabel(r'[Fe/H]')\n",
    "plt.title(r'Metallicity Age Grid')\n",
    "plt.savefig('PARSECgrid.pdf',bbox_inches='tight')\n",
    "plt.show()"
   ]
  },
  {
   "cell_type": "markdown",
   "metadata": {},
   "source": [
    "$\\huge{\\textbf{Generate and Test All Models}}$"
   ]
  },
  {
   "cell_type": "code",
   "execution_count": 4,
   "metadata": {},
   "outputs": [],
   "source": [
    "import itertools as it\n",
    "\n",
    "y1 = parsec['logTe']\n",
    "y2 = parsec['Ksmag']\n",
    "y3 = np.log10(parsec['Zini']/0.02)\n",
    "y12 = np.multiply(y1,y2)\n",
    "y13 = np.multiply(y1,y3)\n",
    "y23 = np.multiply(y2,y3)\n",
    "y1sq = y1**2\n",
    "y2sq = y2**2\n",
    "y3sq = y3**2\n",
    "\n",
    "models = []\n",
    "models_str = []\n",
    "all_var_str = ['y1','y2','y3','y12','y13','y23','y1sq','y2sq','y3sq']\n",
    "all_var = [y1,y2,y3,y12,y13,y23,y1sq,y2sq,y3sq]\n",
    "for i in range(3, len(all_var)+1):\n",
    "    for subset in it.combinations(all_var,i):\n",
    "        models.append(subset)\n",
    "    for subset_str in it.combinations(all_var_str,i):\n",
    "        models_str.append(np.array(subset_str))\n",
    "    \n",
    "idx = []\n",
    "for j in range(len(models_str)):\n",
    "    if models_str[j][0]=='y1' and models_str[j][1]=='y2' and models_str[j][2]=='y3':\n",
    "        idx.append(j)\n",
    "        \n",
    "models = np.array(models)[idx]\n",
    "models_str_good = np.array(models_str)[idx]"
   ]
  },
  {
   "cell_type": "code",
   "execution_count": 5,
   "metadata": {},
   "outputs": [
    {
     "name": "stdout",
     "output_type": "stream",
     "text": [
      "0.05746628233324458\n",
      "[array(['y1', 'y2', 'y3', 'y12', 'y13', 'y23', 'y1sq', 'y2sq', 'y3sq'],\n",
      "      dtype='<U4')]\n",
      "[array([ 1.05592462e+03, -5.37776305e+02,  1.36790634e+01, -2.95641452e+01,\n",
      "       -3.57645238e+00,  7.54638396e+00, -9.45698641e-02,  6.88765399e+01,\n",
      "        6.06345313e-03, -3.04370753e-01])]\n"
     ]
    }
   ],
   "source": [
    "######################\n",
    "### Fit All Models ###\n",
    "######################\n",
    "\n",
    "import statsmodels.api as sm \n",
    "\n",
    "model_mads = []\n",
    "model_params = []\n",
    "model_res = []\n",
    "#test = models[0:25]\n",
    "for i in range(len(models)):\n",
    "    pmodl = np.array(models[i]).T\n",
    "    pmodl = sm.add_constant(pmodl)\n",
    "    model = sm.OLS(parsec['logAge'],pmodl).fit()\n",
    "    predictions = model.predict(pmodl)\n",
    "    residual = predictions - parsec['logAge']\n",
    "    model_res.append(max(np.absolute(residual)))\n",
    "    model_mads.append(mad(residual))\n",
    "    model_params.append(np.asarray(model.params))\n",
    "    \n",
    "best = np.where(model_mads == min(model_mads))\n",
    "print(min(model_mads))\n",
    "print(models_str_good[best])\n",
    "print(np.asarray(model_params)[best])"
   ]
  },
  {
   "cell_type": "code",
   "execution_count": 6,
   "metadata": {},
   "outputs": [],
   "source": [
    "#################\n",
    "### def Model ###\n",
    "#################\n",
    "\n",
    "def nograv(x1,x2,x3):\n",
    "    p = [ 1.05592462e+03, -5.37776305e+02,  1.36790634e+01, -2.95641452e+01,\\\n",
    "       -3.57645238e+00,  7.54638396e+00, -9.45698641e-02,  6.88765399e+01,\\\n",
    "        6.06345313e-03, -3.04370753e-01]\n",
    "    return p[0]+p[1]*x1+p[2]*x2+p[3]*x3+p[4]*np.multiply(x1,x2)+p[5]*np.multiply(x1,x3)+p[6]*np.multiply(x2,x3)+\\\n",
    "p[7]*(x1**2)+p[8]*(x2**2)+p[9]*(x3**2)"
   ]
  },
  {
   "cell_type": "code",
   "execution_count": 53,
   "metadata": {},
   "outputs": [],
   "source": [
    "######################\n",
    "### Calculate Ages ###\n",
    "######################\n",
    "\n",
    "stardist = dist2LMCtest(clndr16['RA'],clndr16['DEC'],82.25, -69.5, 146.37, 27.81)\n",
    "corabsK = absmag(clndr16['K'],stardist,False)-clndr16['AK_TARG']\n",
    "nogravage = nograv(np.log10(clndr16['TEFF']),corabsK,sal(clndr16['M_H'],clndr16['ALPHA_M']))"
   ]
  },
  {
   "cell_type": "code",
   "execution_count": 54,
   "metadata": {},
   "outputs": [],
   "source": [
    "####################################\n",
    "### Get Uncertainties: Add Noise ###\n",
    "####################################\n",
    "\n",
    "def noisynograv(lgT,lgTERR,ks,ksERR,mh,mhERR,am,amERR):\n",
    "    Tnoise = np.random.normal(0, 0.434*(lgTERR/lgT)) #logTeff\n",
    "    Knoise = np.random.normal(0, ksERR) #Ks\n",
    "    MHnoise = np.random.normal(0, mhERR) #[M/H]\n",
    "    aMnoise = np.random.normal(0, amERR) #[alpha/M]\n",
    "    Tnew = lgT + ((-1)**np.random.randint(2))*Tnoise\n",
    "    Knew = ks + ((-1)**np.random.randint(2))*Knoise\n",
    "    MHnew = mh + ((-1)**np.random.randint(2))*MHnoise\n",
    "    aMnew = am + ((-1)**np.random.randint(2))*aMnoise\n",
    "    return Tnew, Knew, MHnew, aMnew"
   ]
  },
  {
   "cell_type": "code",
   "execution_count": 55,
   "metadata": {},
   "outputs": [],
   "source": [
    "######################################\n",
    "### Get Uncertainties: Calc Uncert ###\n",
    "######################################\n",
    "\n",
    "devs = []\n",
    "\n",
    "for i in range(len(clndr16)):\n",
    "    lgT = np.log10(clndr16['TEFF'][i])\n",
    "    lgTERR = 0.434*(np.log(clndr16['TEFF_ERR'][i])/np.log10(clndr16['TEFF'][i]))\n",
    "    ks = corabsK[i]\n",
    "    ksERR = clndr16['K_ERR'][i]\n",
    "    mh = clndr16['M_H'][i]\n",
    "    mhERR = clndr16['M_H_ERR'][i]\n",
    "    am = clndr16['ALPHA_M'][i]\n",
    "    amERR = clndr16['ALPHA_M_ERR'][i]\n",
    "    \n",
    "    ages = []\n",
    "    for j in range(1000):\n",
    "        nlgT,nks,nmh,nam = noisynograv(lgT,lgTERR,ks,ksERR,mh,mhERR,am,amERR)\n",
    "        ages.append(nograv(nlgT,nks,sal(nmh,nam)))\n",
    "    \n",
    "    devs.append(mad(ages)) #1.4826\n",
    "    "
   ]
  },
  {
   "cell_type": "code",
   "execution_count": 56,
   "metadata": {},
   "outputs": [
    {
     "data": {
      "image/png": "[encoded data removed]",
      "text/plain": [
       "<Figure size 720x720 with 1 Axes>"
      ]
     },
     "metadata": {
      "needs_background": "light"
     },
     "output_type": "display_data"
    }
   ],
   "source": [
    "########################\n",
    "### Uncertainty Plot ###\n",
    "########################\n",
    "\n",
    "plt.figure(figsize=[10,10])\n",
    "plt.scatter(nogravage,devs,c='k',marker='+',label='Povick')\n",
    "plt.scatter(clnpdfout['P_MEAN'],clnpdfout['P_VAR'],c='r',marker='+',label='Feuillet')\n",
    "plt.xlim(7,13)\n",
    "plt.axvline(10.13+np.mean(devs),c='k')\n",
    "plt.xlabel(r'Log(Age) [yr]')\n",
    "plt.ylabel(r'Uncertainty')\n",
    "plt.ylim(0.0,1.6)\n",
    "plt.title(r'Uncertainty vs Age')\n",
    "plt.legend()\n",
    "plt.savefig('nograv_uncert_age.pdf',bbox_inches='tight')\n",
    "plt.show()"
   ]
  },
  {
   "cell_type": "code",
   "execution_count": 57,
   "metadata": {},
   "outputs": [
    {
     "data": {
      "image/png": "[encoded data removed]",
      "text/plain": [
       "<Figure size 864x864 with 2 Axes>"
      ]
     },
     "metadata": {
      "needs_background": "light"
     },
     "output_type": "display_data"
    }
   ],
   "source": [
    "plt.figure(figsize=[12,12])\n",
    "plt.scatter(nogravage,clnpdfout['P_MEAN'],c=clndr16['LOGG'],marker='+',cmap='nipy_spectral')\n",
    "plt.colorbar()\n",
    "plt.plot([7,8,9,10,11,12,13],[7,8,9,10,11,12,13],c='tab:blue')\n",
    "plt.ylim(7,13)\n",
    "plt.scatter(13,7.5,c='k',marker='+')\n",
    "plt.errorbar(13,7.5,xerr=np.mean(devs),c='k',capsize=2)\n",
    "plt.axvline(10.13,c='r')\n",
    "plt.axvline(10.13+max(devs),c='r',linestyle='--')\n",
    "plt.xlabel(r'Povick Ages Log(Age) [yr]')\n",
    "plt.ylabel(r'Feuillet Ages Log(Age) [yr]')\n",
    "plt.title(r'Color as Log(g)')\n",
    "plt.savefig('nograv_age_age.pdf',bbox_inches='tight')\n",
    "plt.show()"
   ]
  },
  {
   "cell_type": "code",
   "execution_count": 12,
   "metadata": {},
   "outputs": [
    {
     "data": {
      "text/plain": [
       "(array([1.00e+00, 4.00e+00, 1.11e+02, 1.19e+03, 9.32e+02, 7.10e+01,\n",
       "        1.10e+01, 1.30e+01, 3.00e+00, 4.00e+00]),\n",
       " array([-0.15174198, -0.10661118, -0.06148039, -0.0163496 ,  0.0287812 ,\n",
       "         0.07391199,  0.11904279,  0.16417359,  0.20930438,  0.25443518,\n",
       "         0.29956597], dtype=float32),\n",
       " <a list of 10 Patch objects>)"
      ]
     },
     "execution_count": 12,
     "metadata": {},
     "output_type": "execute_result"
    },
    {
     "data": {
      "image/png": "[encoded data removed]",
      "text/plain": [
       "<Figure size 864x864 with 1 Axes>"
      ]
     },
     "metadata": {
      "needs_background": "light"
     },
     "output_type": "display_data"
    }
   ],
   "source": [
    "plt.figure(figsize=[12,12])\n",
    "plt.hist(np.log10(0.638*(10**clndr16['ALPHA_M'])+0.362))"
   ]
  },
  {
   "cell_type": "code",
   "execution_count": 44,
   "metadata": {
    "scrolled": false
   },
   "outputs": [],
   "source": [
    "CM = clndr16['C_FE']+clndr16['FE_H']-clndr16['M_H']\n",
    "#NM = clndr16['N_FE']+clndr16['FE_H']-clndr16['M_H']\n",
    "#TiM = clndr16['TI_FE']+clndr16['FE_H']-clndr16['M_H']\n",
    "newalpha = np.log10(10**clndr16['ALPHA_M']+10**CM+10**NM)"
   ]
  },
  {
   "cell_type": "code",
   "execution_count": 42,
   "metadata": {},
   "outputs": [
    {
     "data": {
      "text/plain": [
       "-10000.034"
      ]
     },
     "execution_count": 42,
     "metadata": {},
     "output_type": "execute_result"
    }
   ],
   "source": [
    "min(TiM)"
   ]
  },
  {
   "cell_type": "code",
   "execution_count": 45,
   "metadata": {},
   "outputs": [
    {
     "data": {
      "text/plain": [
       "(array([1.00e+00, 4.00e+00, 1.11e+02, 1.19e+03, 9.32e+02, 7.10e+01,\n",
       "        1.10e+01, 1.30e+01, 3.00e+00, 4.00e+00]),\n",
       " array([-0.15174198, -0.10661118, -0.06148039, -0.0163496 ,  0.0287812 ,\n",
       "         0.07391199,  0.11904279,  0.16417359,  0.20930438,  0.25443518,\n",
       "         0.29956597], dtype=float32),\n",
       " <a list of 10 Patch objects>)"
      ]
     },
     "execution_count": 45,
     "metadata": {},
     "output_type": "execute_result"
    },
    {
     "data": {
      "image/png": "[encoded data removed]",
      "text/plain": [
       "<Figure size 864x864 with 1 Axes>"
      ]
     },
     "metadata": {
      "needs_background": "light"
     },
     "output_type": "display_data"
    }
   ],
   "source": [
    "plt.figure(figsize=[12,12])\n",
    "plt.hist(np.log10(0.638*(10**newalpha)+0.362))\n",
    "plt.hist(np.log10(0.638*(10**clndr16['ALPHA_M'])+0.362))"
   ]
  },
  {
   "cell_type": "code",
   "execution_count": 17,
   "metadata": {
    "scrolled": false
   },
   "outputs": [
    {
     "data": {
      "text/plain": [
       "ColDefs(\n",
       "    name = 'APSTAR_ID'; format = '46A'\n",
       "    name = 'TARGET_ID'; format = '39A'\n",
       "    name = 'ASPCAP_ID'; format = '56A'\n",
       "    name = 'FILE'; format = '34A'\n",
       "    name = 'APOGEE_ID'; format = '18A'\n",
       "    name = 'TELESCOPE'; format = '6A'\n",
       "    name = 'LOCATION_ID'; format = 'J'\n",
       "    name = 'FIELD'; format = '5A'\n",
       "    name = 'J'; format = 'E'\n",
       "    name = 'J_ERR'; format = 'E'\n",
       "    name = 'H'; format = 'E'\n",
       "    name = 'H_ERR'; format = 'E'\n",
       "    name = 'K'; format = 'E'\n",
       "    name = 'K_ERR'; format = 'E'\n",
       "    name = 'RA'; format = 'D'\n",
       "    name = 'DEC'; format = 'D'\n",
       "    name = 'GLON'; format = 'D'\n",
       "    name = 'GLAT'; format = 'D'\n",
       "    name = 'APOGEE_TARGET1'; format = 'J'\n",
       "    name = 'APOGEE_TARGET2'; format = 'J'\n",
       "    name = 'APOGEE_TARGET3'; format = 'J'\n",
       "    name = 'APOGEE2_TARGET1'; format = 'J'\n",
       "    name = 'APOGEE2_TARGET2'; format = 'J'\n",
       "    name = 'APOGEE2_TARGET3'; format = 'J'\n",
       "    name = 'TARGFLAGS'; format = '105A'\n",
       "    name = 'SURVEY'; format = '8A'\n",
       "    name = 'PROGRAMNAME'; format = '18A'\n",
       "    name = 'NINST'; format = '3J'\n",
       "    name = 'NVISITS'; format = 'J'\n",
       "    name = 'COMBTYPE'; format = 'J'\n",
       "    name = 'COMMISS'; format = 'I'\n",
       "    name = 'SNR'; format = 'E'\n",
       "    name = 'STARFLAG'; format = 'J'\n",
       "    name = 'STARFLAGS'; format = '103A'\n",
       "    name = 'ANDFLAG'; format = 'J'\n",
       "    name = 'ANDFLAGS'; format = '45A'\n",
       "    name = 'VHELIO_AVG'; format = 'E'\n",
       "    name = 'VSCATTER'; format = 'E'\n",
       "    name = 'VERR'; format = 'E'\n",
       "    name = 'VERR_MED'; format = 'E'\n",
       "    name = 'OBSVHELIO_AVG'; format = 'E'\n",
       "    name = 'OBSVSCATTER'; format = 'E'\n",
       "    name = 'OBSVERR'; format = 'E'\n",
       "    name = 'OBSVERR_MED'; format = 'E'\n",
       "    name = 'SYNTHVHELIO_AVG'; format = 'E'\n",
       "    name = 'SYNTHVSCATTER'; format = 'E'\n",
       "    name = 'SYNTHVERR'; format = 'E'\n",
       "    name = 'SYNTHVERR_MED'; format = 'E'\n",
       "    name = 'RV_TEFF'; format = 'E'\n",
       "    name = 'RV_LOGG'; format = 'E'\n",
       "    name = 'RV_FEH'; format = 'E'\n",
       "    name = 'RV_ALPHA'; format = 'E'\n",
       "    name = 'RV_CARB'; format = 'E'\n",
       "    name = 'RV_CCFWHM'; format = 'E'\n",
       "    name = 'RV_AUTOFWHM'; format = 'E'\n",
       "    name = 'SYNTHSCATTER'; format = 'E'\n",
       "    name = 'STABLERV_CHI2'; format = '2E'\n",
       "    name = 'STABLERV_RCHI2'; format = '2E'\n",
       "    name = 'CHI2_THRESHOLD'; format = '2E'\n",
       "    name = 'STABLERV_CHI2_PROB'; format = '2E'\n",
       "    name = 'MEANFIB'; format = 'E'\n",
       "    name = 'SIGFIB'; format = 'E'\n",
       "    name = 'SNREV'; format = 'E'\n",
       "    name = 'APSTAR_VERSION'; format = '5A'\n",
       "    name = 'ASPCAP_VERSION'; format = '3A'\n",
       "    name = 'RESULTS_VERSION'; format = '7A'\n",
       "    name = 'EXTRATARG'; format = 'I'\n",
       "    name = 'MIN_H'; format = 'E'\n",
       "    name = 'MAX_H'; format = 'E'\n",
       "    name = 'MIN_JK'; format = 'E'\n",
       "    name = 'MAX_JK'; format = 'E'\n",
       "    name = 'PARAM'; format = '9E'\n",
       "    name = 'FPARAM'; format = '9E'\n",
       "    name = 'PARAM_COV'; format = '81E'; dim = '(9,9)'\n",
       "    name = 'FPARAM_COV'; format = '81E'; dim = '(9,9)'\n",
       "    name = 'TEFF'; format = 'E'\n",
       "    name = 'TEFF_ERR'; format = 'E'\n",
       "    name = 'LOGG'; format = 'E'\n",
       "    name = 'LOGG_ERR'; format = 'E'\n",
       "    name = 'VMICRO'; format = 'E'\n",
       "    name = 'VMACRO'; format = 'E'\n",
       "    name = 'VSINI'; format = 'E'\n",
       "    name = 'M_H'; format = 'E'\n",
       "    name = 'M_H_ERR'; format = 'E'\n",
       "    name = 'ALPHA_M'; format = 'E'\n",
       "    name = 'ALPHA_M_ERR'; format = 'E'\n",
       "    name = 'ASPCAP_CHI2'; format = 'E'\n",
       "    name = 'ASPCAP_CLASS'; format = '5A'\n",
       "    name = 'ASPCAPFLAG'; format = 'J'\n",
       "    name = 'ASPCAPFLAGS'; format = '104A'\n",
       "    name = 'PARAMFLAG'; format = '9J'\n",
       "    name = 'FELEM'; format = '26E'\n",
       "    name = 'FELEM_ERR'; format = '26E'\n",
       "    name = 'X_H'; format = '26E'\n",
       "    name = 'X_H_ERR'; format = '26E'\n",
       "    name = 'X_M'; format = '26E'\n",
       "    name = 'X_M_ERR'; format = '26E'\n",
       "    name = 'C_FE'; format = 'E'\n",
       "    name = 'CI_FE'; format = 'E'\n",
       "    name = 'N_FE'; format = 'E'\n",
       "    name = 'O_FE'; format = 'E'\n",
       "    name = 'NA_FE'; format = 'E'\n",
       "    name = 'MG_FE'; format = 'E'\n",
       "    name = 'AL_FE'; format = 'E'\n",
       "    name = 'SI_FE'; format = 'E'\n",
       "    name = 'P_FE'; format = 'E'\n",
       "    name = 'S_FE'; format = 'E'\n",
       "    name = 'K_FE'; format = 'E'\n",
       "    name = 'CA_FE'; format = 'E'\n",
       "    name = 'TI_FE'; format = 'E'\n",
       "    name = 'TIII_FE'; format = 'E'\n",
       "    name = 'V_FE'; format = 'E'\n",
       "    name = 'CR_FE'; format = 'E'\n",
       "    name = 'MN_FE'; format = 'E'\n",
       "    name = 'FE_H'; format = 'E'\n",
       "    name = 'CO_FE'; format = 'E'\n",
       "    name = 'NI_FE'; format = 'E'\n",
       "    name = 'CU_FE'; format = 'E'\n",
       "    name = 'GE_FE'; format = 'E'\n",
       "    name = 'RB_FE'; format = 'E'\n",
       "    name = 'CE_FE'; format = 'E'\n",
       "    name = 'ND_FE'; format = 'E'\n",
       "    name = 'YB_FE'; format = 'E'\n",
       "    name = 'C_FE_ERR'; format = 'E'\n",
       "    name = 'CI_FE_ERR'; format = 'E'\n",
       "    name = 'N_FE_ERR'; format = 'E'\n",
       "    name = 'O_FE_ERR'; format = 'E'\n",
       "    name = 'NA_FE_ERR'; format = 'E'\n",
       "    name = 'MG_FE_ERR'; format = 'E'\n",
       "    name = 'AL_FE_ERR'; format = 'E'\n",
       "    name = 'SI_FE_ERR'; format = 'E'\n",
       "    name = 'P_FE_ERR'; format = 'E'\n",
       "    name = 'S_FE_ERR'; format = 'E'\n",
       "    name = 'K_FE_ERR'; format = 'E'\n",
       "    name = 'CA_FE_ERR'; format = 'E'\n",
       "    name = 'TI_FE_ERR'; format = 'E'\n",
       "    name = 'TIII_FE_ERR'; format = 'E'\n",
       "    name = 'V_FE_ERR'; format = 'E'\n",
       "    name = 'CR_FE_ERR'; format = 'E'\n",
       "    name = 'MN_FE_ERR'; format = 'E'\n",
       "    name = 'FE_H_ERR'; format = 'E'\n",
       "    name = 'CO_FE_ERR'; format = 'E'\n",
       "    name = 'NI_FE_ERR'; format = 'E'\n",
       "    name = 'CU_FE_ERR'; format = 'E'\n",
       "    name = 'GE_FE_ERR'; format = 'E'\n",
       "    name = 'RB_FE_ERR'; format = 'E'\n",
       "    name = 'CE_FE_ERR'; format = 'E'\n",
       "    name = 'ND_FE_ERR'; format = 'E'\n",
       "    name = 'YB_FE_ERR'; format = 'E'\n",
       "    name = 'C_FE_FLAG'; format = 'J'\n",
       "    name = 'CI_FE_FLAG'; format = 'J'\n",
       "    name = 'N_FE_FLAG'; format = 'J'\n",
       "    name = 'O_FE_FLAG'; format = 'J'\n",
       "    name = 'NA_FE_FLAG'; format = 'J'\n",
       "    name = 'MG_FE_FLAG'; format = 'J'\n",
       "    name = 'AL_FE_FLAG'; format = 'J'\n",
       "    name = 'SI_FE_FLAG'; format = 'J'\n",
       "    name = 'P_FE_FLAG'; format = 'J'\n",
       "    name = 'S_FE_FLAG'; format = 'J'\n",
       "    name = 'K_FE_FLAG'; format = 'J'\n",
       "    name = 'CA_FE_FLAG'; format = 'J'\n",
       "    name = 'TI_FE_FLAG'; format = 'J'\n",
       "    name = 'TIII_FE_FLAG'; format = 'J'\n",
       "    name = 'V_FE_FLAG'; format = 'J'\n",
       "    name = 'CR_FE_FLAG'; format = 'J'\n",
       "    name = 'MN_FE_FLAG'; format = 'J'\n",
       "    name = 'FE_H_FLAG'; format = 'J'\n",
       "    name = 'CO_FE_FLAG'; format = 'J'\n",
       "    name = 'NI_FE_FLAG'; format = 'J'\n",
       "    name = 'CU_FE_FLAG'; format = 'J'\n",
       "    name = 'GE_FE_FLAG'; format = 'J'\n",
       "    name = 'RB_FE_FLAG'; format = 'J'\n",
       "    name = 'CE_FE_FLAG'; format = 'J'\n",
       "    name = 'ND_FE_FLAG'; format = 'J'\n",
       "    name = 'YB_FE_FLAG'; format = 'J'\n",
       "    name = 'ELEM_CHI2'; format = '26E'\n",
       "    name = 'ELEMFLAG'; format = '26J'\n",
       "    name = 'REDUCTION_ID'; format = '18A'\n",
       "    name = 'SRC_H'; format = '9A'\n",
       "    name = 'WASH_M'; format = 'E'\n",
       "    name = 'WASH_M_ERR'; format = 'E'\n",
       "    name = 'WASH_T2'; format = 'E'\n",
       "    name = 'WASH_T2_ERR'; format = 'E'\n",
       "    name = 'DDO51'; format = 'E'\n",
       "    name = 'DDO51_ERR'; format = 'E'\n",
       "    name = 'IRAC_3_6'; format = 'E'\n",
       "    name = 'IRAC_3_6_ERR'; format = 'E'\n",
       "    name = 'IRAC_4_5'; format = 'E'\n",
       "    name = 'IRAC_4_5_ERR'; format = 'E'\n",
       "    name = 'IRAC_5_8'; format = 'E'\n",
       "    name = 'IRAC_5_8_ERR'; format = 'E'\n",
       "    name = 'IRAC_8_0'; format = 'E'\n",
       "    name = 'IRAC_8_0_ERR'; format = 'E'\n",
       "    name = 'WISE_4_5'; format = 'E'\n",
       "    name = 'WISE_4_5_ERR'; format = 'E'\n",
       "    name = 'TARG_4_5'; format = 'E'\n",
       "    name = 'TARG_4_5_ERR'; format = 'E'\n",
       "    name = 'AK_TARG'; format = 'E'\n",
       "    name = 'AK_TARG_METHOD'; format = '9A'\n",
       "    name = 'AK_WISE'; format = 'E'\n",
       "    name = 'SFD_EBV'; format = 'E'\n",
       "    name = 'WASH_DDO51_GIANT_FLAG'; format = 'I'\n",
       "    name = 'WASH_DDO51_STAR_FLAG'; format = 'I'\n",
       "    name = 'ALL_VISITS'; format = '259A'\n",
       "    name = 'VISITS'; format = '239A'\n",
       "    name = 'ALL_VISIT_PK'; format = '50J'\n",
       "    name = 'VISIT_PK'; format = '50J'\n",
       "    name = 'FPARAM_CLASS'; format = '207E'; dim = '(9,23)'\n",
       "    name = 'CHI2_CLASS'; format = '23E'\n",
       "    name = 'GAIA_SOURCE_ID'; format = 'D'\n",
       "    name = 'GAIA_PARALLAX'; format = 'D'\n",
       "    name = 'GAIA_PARALLAX_ERROR'; format = 'D'\n",
       "    name = 'GAIA_PMRA'; format = 'D'\n",
       "    name = 'GAIA_PMRA_ERROR'; format = 'D'\n",
       "    name = 'GAIA_PMDEC'; format = 'D'\n",
       "    name = 'GAIA_PMDEC_ERROR'; format = 'D'\n",
       "    name = 'GAIA_PHOT_G_MEAN_MAG'; format = 'D'\n",
       "    name = 'GAIA_PHOT_BP_MEAN_MAG'; format = 'D'\n",
       "    name = 'GAIA_PHOT_RP_MEAN_MAG'; format = 'D'\n",
       "    name = 'TEFF_SPEC'; format = 'E'\n",
       "    name = 'LOGG_SPEC'; format = 'E'\n",
       "    name = 'LMCPA'; format = 'E'\n",
       "    name = 'LMCRAD'; format = 'E'\n",
       "    name = 'SMCPA'; format = 'E'\n",
       "    name = 'SMCRAD'; format = 'E'\n",
       "    name = 'MLON'; format = 'E'\n",
       "    name = 'MLAT'; format = 'E'\n",
       "    name = 'M'; format = 'E'\n",
       "    name = 'MERR'; format = 'E'\n",
       "    name = 'DDO51ERR'; format = 'E'\n",
       "    name = 'T2'; format = 'E'\n",
       "    name = 'T2ERR'; format = 'E'\n",
       "    name = 'DELTA_VHELIO'; format = 'E'\n",
       "    name = 'DELTA_PMRA'; format = 'E'\n",
       "    name = 'DELTA_PMDEC'; format = 'E'\n",
       "    name = 'DELTA_FEH'; format = 'E'\n",
       "    name = 'DELTA_ALPHA'; format = 'E'\n",
       "    name = 'TARGET_TYPE'; format = 'J'\n",
       "    name = 'TARGET_NAME'; format = '6A'\n",
       "    name = 'PRIORITY'; format = 'J'\n",
       "    name = 'GAIA_MATCH'; format = 'I'\n",
       "    name = 'GAIA_SOURCEID'; format = 'K'\n",
       "    name = 'GAIA_GMAG'; format = 'E'\n",
       "    name = 'GAIA_BPMAG'; format = 'E'\n",
       "    name = 'GAIA_RPMAG'; format = 'E'\n",
       "    name = 'GAIA_PML'; format = 'E'\n",
       "    name = 'GAIA_PMB'; format = 'E'\n",
       "    name = 'GAIA_PMML'; format = 'E'\n",
       "    name = 'GAIA_PMMB'; format = 'E'\n",
       "    name = 'dist'; format = 'D'\n",
       ")"
      ]
     },
     "execution_count": 17,
     "metadata": {},
     "output_type": "execute_result"
    }
   ],
   "source": []
  },
  {
   "cell_type": "code",
   "execution_count": 52,
   "metadata": {},
   "outputs": [
    {
     "data": {
      "text/plain": [
       "-9999.99"
      ]
     },
     "execution_count": 52,
     "metadata": {},
     "output_type": "execute_result"
    }
   ],
   "source": [
    "min(clndr16['N_FE'])"
   ]
  },
  {
   "cell_type": "code",
   "execution_count": null,
   "metadata": {},
   "outputs": [],
   "source": []
  }
 ],
 "metadata": {
  "kernelspec": {
   "display_name": "Python 3",
   "language": "python",
   "name": "python3"
  },
  "language_info": {
   "codemirror_mode": {
    "name": "ipython",
    "version": 3
   },
   "file_extension": ".py",
   "mimetype": "text/x-python",
   "name": "python",
   "nbconvert_exporter": "python",
   "pygments_lexer": "ipython3",
   "version": "3.7.1"
  }
 },
 "nbformat": 4,
 "nbformat_minor": 2
}
