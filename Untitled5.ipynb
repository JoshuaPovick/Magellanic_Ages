{
 "cells": [
  {
   "cell_type": "code",
   "execution_count": 6,
   "metadata": {},
   "outputs": [],
   "source": [
    "###Calculate APOGEE field mass with PARSEC isochrones\n",
    "import astropy\n",
    "from astropy.io import fits, ascii\n",
    "from astropy.table import Table\n",
    "import numpy as np\n",
    "import statsmodels.api as sm \n",
    "\n",
    "def parsec_apogee_field_mass(age,metallicity,maxabsH,parsec_path):\n",
    "    \n",
    "    \"\"\"\n",
    "    This is used to calculate the mass of stars in a field\n",
    "    - star: APOGEE_ID of star to use to create an inlist file for\n",
    "    - maxabsH: max value of H for the field \n",
    "    - apogee_path: fits file to apogee data\n",
    "    - parsec_path: fits file that contains data using Nidever/APOGEE naming convention for columns\n",
    "    \"\"\"\n",
    "    \n",
    "    ###Load in isochrones from parsec\n",
    "    parsecall = ascii.read(parsec_path, format='basic', delimiter='\\s')\n",
    "    rgb = np.where(parsecall['label']==3)\n",
    "    parsec = parsecall[rgb]\n",
    "    \n",
    "    #find closest parsec isochrone z fraction\n",
    "    age = np.log10(age)\n",
    "    parsec_mets = np.unique(np.asarray((np.log10(parsec['Zini']/0.02))))\n",
    "    met_index = np.absolute(parsec_mets-metallicity*np.ones(len(parsec_mets))).argmin()\n",
    "    z_iso = 0.02*(10**parsec_mets[met_index])\n",
    "    \n",
    "    #find closest parsec isochrone age\n",
    "    parsec_ages = np.unique(np.asarray(parsec['logAge']))\n",
    "    age_index = np.absolute(parsec_ages-age*np.ones(len(parsec_ages))).argmin()\n",
    "    age_iso = parsec_ages[age_index]\n",
    "    \n",
    "    #pick out isochrone with range\n",
    "    single_iso = np.where((parsec['Zini']==z_iso)&(parsec['logAge']==age_iso)&(parsec['Hmag']<=maxabsH))\n",
    "    \n",
    "    #fit IMF interpolation to isochrone picked out above\n",
    "    x = parsec[single_iso]['Hmag']\n",
    "    y = parsec[single_iso]['int_IMF']\n",
    "    x = sm.add_constant(x)\n",
    "\n",
    "    model = sm.OLS(y,x)\n",
    "    results = model.fit()\n",
    "    results.params\n",
    "    results.summary()\n",
    "    \n",
    "    #model for interpolation of IMF and generate new IMF points\n",
    "    def IMF(mag):\n",
    "        results.params[0]+results.params[1]*mag\n",
    "        return \n",
    "    h = np.linspace(min(parsec[single_iso]['Hmag']),max(parsec[single_iso]['Hmag']),50)\n",
    "    new_IMF = IMF(h)\n",
    "    \n",
    "    #calculate the difference between IMF points\n",
    "    new_IMF2 = new_IMF.append(new_IMF[-1])\n",
    "    diff_in_IMF = []\n",
    "    for i in range(len(new_IMF)):\n",
    "        diff_in_IMF.append(new_IMF2[i+1]-new_IMF2[i])\n",
    "    "
   ]
  },
  {
   "cell_type": "code",
   "execution_count": 11,
   "metadata": {},
   "outputs": [],
   "source": [
    "import matplotlib\n",
    "import matplotlib.pyplot as plt\n",
    "%matplotlib inline"
   ]
  },
  {
   "cell_type": "code",
   "execution_count": 7,
   "metadata": {},
   "outputs": [],
   "source": [
    "parsecall = ascii.read('/Users/joshpovick/Desktop/Research/Magellanic_Ages/logisochrones.dat',format='basic', delimiter='\\s')\n",
    "rgb = np.where(parsecall['label']==3)\n",
    "parsec = parsecall[rgb]"
   ]
  },
  {
   "cell_type": "code",
   "execution_count": 141,
   "metadata": {},
   "outputs": [
    {
     "data": {
      "text/plain": [
       "<TableColumns names=('Zini','logAge','Mini','int_IMF','Mass','logL','logTe','logg','label','McoreTP','C_O','period0','period1','pmode','Mloss','tau1m','X','Y','Xc','Xn','Xo','Cexcess','Z','mbolmag','Jmag','Hmag','Ksmag')>"
      ]
     },
     "execution_count": 141,
     "metadata": {},
     "output_type": "execute_result"
    }
   ],
   "source": [
    "parsec.columns"
   ]
  },
  {
   "cell_type": "code",
   "execution_count": 165,
   "metadata": {},
   "outputs": [
    {
     "name": "stdout",
     "output_type": "stream",
     "text": [
      "[1, 3, 3, 0]\n"
     ]
    }
   ],
   "source": [
    "r = []\n",
    "t = [1,2,5,8,8]\n",
    "s = [1,2,5,8]\n",
    "for i in range(len(s)):\n",
    "    r.append(t[i+1]-t[i])\n",
    "    \n",
    "print(r)"
   ]
  },
  {
   "cell_type": "code",
   "execution_count": 131,
   "metadata": {},
   "outputs": [
    {
     "data": {
      "text/plain": [
       "{8.0,\n",
       " 8.15,\n",
       " 8.3,\n",
       " 8.45,\n",
       " 8.6,\n",
       " 8.75,\n",
       " 8.9,\n",
       " 9.05,\n",
       " 9.2,\n",
       " 9.35,\n",
       " 9.5,\n",
       " 9.65,\n",
       " 9.8,\n",
       " 9.95,\n",
       " 10.1}"
      ]
     },
     "execution_count": 131,
     "metadata": {},
     "output_type": "execute_result"
    }
   ],
   "source": [
    "set(parsec['logAge'])"
   ]
  },
  {
   "cell_type": "code",
   "execution_count": 136,
   "metadata": {},
   "outputs": [
    {
     "name": "stdout",
     "output_type": "stream",
     "text": [
      "9.2\n"
     ]
    }
   ],
   "source": [
    "age = 9.15\n",
    "\n",
    "parsec_ages = np.unique(np.asarray(parsec['logAge']))\n",
    "age_index = np.absolute(parsec_ages-age*np.ones(len(parsec_ages))).argmin()\n",
    "    \n",
    "age_iso = parsec_ages[age_index]\n",
    "\n",
    "print(age_iso)"
   ]
  },
  {
   "cell_type": "code",
   "execution_count": 163,
   "metadata": {},
   "outputs": [
    {
     "data": {
      "image/png": "[encoded data removed]",
      "text/plain": [
       "<Figure size 432x288 with 1 Axes>"
      ]
     },
     "metadata": {
      "needs_background": "light"
     },
     "output_type": "display_data"
    }
   ],
   "source": [
    "plt.scatter(np.arange(50), np.linspace(min(parsec[test_iso]['Hmag']),max(parsec[test_iso]['Hmag']),50))\n",
    "plt.gca().invert_yaxis()"
   ]
  },
  {
   "cell_type": "code",
   "execution_count": 138,
   "metadata": {},
   "outputs": [
    {
     "name": "stdout",
     "output_type": "stream",
     "text": [
      "-0.25289906863501377\n"
     ]
    }
   ],
   "source": [
    "metallicity  = -0.3\n",
    "\n",
    "parsec_mets = np.unique(np.asarray((np.log10(parsec['Zini']/0.02))))\n",
    "met_index = np.absolute(parsec_mets-metallicity*np.ones(len(parsec_mets))).argmin()\n",
    "    \n",
    "z_iso = 0.02*(10**parsec_mets[met_index])\n",
    "\n",
    "print(parsec_mets[met_index])"
   ]
  },
  {
   "cell_type": "code",
   "execution_count": 140,
   "metadata": {},
   "outputs": [],
   "source": [
    "z = 0.02*10**(-0.25289906863501377)\n",
    "\n",
    "test_iso = np.where((parsec['Zini']==z)&(parsec['logAge']==8.6))"
   ]
  },
  {
   "cell_type": "code",
   "execution_count": 158,
   "metadata": {},
   "outputs": [
    {
     "data": {
      "image/png": "[encoded data removed]",
      "text/plain": [
       "<Figure size 432x288 with 1 Axes>"
      ]
     },
     "metadata": {
      "needs_background": "light"
     },
     "output_type": "display_data"
    },
    {
     "data": {
      "image/png": "[encoded data removed]",
      "text/plain": [
       "<Figure size 432x288 with 1 Axes>"
      ]
     },
     "metadata": {
      "needs_background": "light"
     },
     "output_type": "display_data"
    }
   ],
   "source": [
    "plt.scatter(parsec[test_iso]['Hmag'],parsec[test_iso]['logg'])\n",
    "plt.gca().invert_xaxis()\n",
    "plt.gca().invert_yaxis()\n",
    "plt.show()\n",
    "\n",
    "plt.scatter(parsec[test_iso]['Hmag'],parsec[test_iso]['int_IMF'])\n",
    "plt.gca().invert_xaxis()\n",
    "plt.gca().invert_yaxis()\n",
    "plt.show()"
   ]
  },
  {
   "cell_type": "code",
   "execution_count": null,
   "metadata": {},
   "outputs": [],
   "source": [
    "############################################\n",
    "### Create a list of all possible models ###\n",
    "############################################\n",
    "\n",
    "import itertools as it\n",
    "\n",
    "x = parsec['logTe']\n",
    "y = parsec['Ksmag']\n",
    "\n",
    "models = []\n",
    "all_var = [x,y]\n",
    "for i in range(4, len(all_var)+1):\n",
    "    for subset in it.combinations(all_var,i):\n",
    "        models.append(subset)\n",
    "    for subset_str in it.combinations(all_var_str,i):\n",
    "        models_str.append(np.array(subset_str))\n",
    "    \n",
    "idx = []\n",
    "for j in range(len(models_str)):\n",
    "    if models_str[j][0]=='y1' and models_str[j][1]=='y2' and models_str[j][2]=='y3' and models_str[j][3]=='y4':\n",
    "        idx.append(j)\n",
    "        \n",
    "models = np.array(models)[idx]\n",
    "models_str_good = np.array(models_str)[idx]"
   ]
  },
  {
   "cell_type": "code",
   "execution_count": 152,
   "metadata": {},
   "outputs": [
    {
     "data": {
      "text/html": [
       "<table class=\"simpletable\">\n",
       "<caption>OLS Regression Results</caption>\n",
       "<tr>\n",
       "  <th>Dep. Variable:</th>            <td>y</td>        <th>  R-squared:         </th> <td>   0.998</td> \n",
       "</tr>\n",
       "<tr>\n",
       "  <th>Model:</th>                   <td>OLS</td>       <th>  Adj. R-squared:    </th> <td>   0.998</td> \n",
       "</tr>\n",
       "<tr>\n",
       "  <th>Method:</th>             <td>Least Squares</td>  <th>  F-statistic:       </th> <td>1.177e+04</td>\n",
       "</tr>\n",
       "<tr>\n",
       "  <th>Date:</th>             <td>Thu, 31 Oct 2019</td> <th>  Prob (F-statistic):</th> <td>5.32e-28</td> \n",
       "</tr>\n",
       "<tr>\n",
       "  <th>Time:</th>                 <td>13:17:45</td>     <th>  Log-Likelihood:    </th> <td>  258.87</td> \n",
       "</tr>\n",
       "<tr>\n",
       "  <th>No. Observations:</th>      <td>    21</td>      <th>  AIC:               </th> <td>  -513.7</td> \n",
       "</tr>\n",
       "<tr>\n",
       "  <th>Df Residuals:</th>          <td>    19</td>      <th>  BIC:               </th> <td>  -511.6</td> \n",
       "</tr>\n",
       "<tr>\n",
       "  <th>Df Model:</th>              <td>     1</td>      <th>                     </th>     <td> </td>    \n",
       "</tr>\n",
       "<tr>\n",
       "  <th>Covariance Type:</th>      <td>nonrobust</td>    <th>                     </th>     <td> </td>    \n",
       "</tr>\n",
       "</table>\n",
       "<table class=\"simpletable\">\n",
       "<tr>\n",
       "    <td></td>       <th>coef</th>     <th>std err</th>      <th>t</th>      <th>P>|t|</th>  <th>[0.025</th>    <th>0.975]</th>  \n",
       "</tr>\n",
       "<tr>\n",
       "  <th>const</th> <td>    2.5934</td> <td> 1.32e-06</td> <td> 1.96e+06</td> <td> 0.000</td> <td>    2.593</td> <td>    2.593</td>\n",
       "</tr>\n",
       "<tr>\n",
       "  <th>x1</th>    <td>-4.236e-05</td> <td>  3.9e-07</td> <td> -108.491</td> <td> 0.000</td> <td>-4.32e-05</td> <td>-4.15e-05</td>\n",
       "</tr>\n",
       "</table>\n",
       "<table class=\"simpletable\">\n",
       "<tr>\n",
       "  <th>Omnibus:</th>       <td>16.981</td> <th>  Durbin-Watson:     </th> <td>   0.351</td>\n",
       "</tr>\n",
       "<tr>\n",
       "  <th>Prob(Omnibus):</th> <td> 0.000</td> <th>  Jarque-Bera (JB):  </th> <td>  17.304</td>\n",
       "</tr>\n",
       "<tr>\n",
       "  <th>Skew:</th>          <td> 1.739</td> <th>  Prob(JB):          </th> <td>0.000175</td>\n",
       "</tr>\n",
       "<tr>\n",
       "  <th>Kurtosis:</th>      <td> 5.771</td> <th>  Cond. No.          </th> <td>    19.8</td>\n",
       "</tr>\n",
       "</table><br/><br/>Warnings:<br/>[1] Standard Errors assume that the covariance matrix of the errors is correctly specified."
      ],
      "text/plain": [
       "<class 'statsmodels.iolib.summary.Summary'>\n",
       "\"\"\"\n",
       "                            OLS Regression Results                            \n",
       "==============================================================================\n",
       "Dep. Variable:                      y   R-squared:                       0.998\n",
       "Model:                            OLS   Adj. R-squared:                  0.998\n",
       "Method:                 Least Squares   F-statistic:                 1.177e+04\n",
       "Date:                Thu, 31 Oct 2019   Prob (F-statistic):           5.32e-28\n",
       "Time:                        13:17:45   Log-Likelihood:                 258.87\n",
       "No. Observations:                  21   AIC:                            -513.7\n",
       "Df Residuals:                      19   BIC:                            -511.6\n",
       "Df Model:                           1                                         \n",
       "Covariance Type:            nonrobust                                         \n",
       "==============================================================================\n",
       "                 coef    std err          t      P>|t|      [0.025      0.975]\n",
       "------------------------------------------------------------------------------\n",
       "const          2.5934   1.32e-06   1.96e+06      0.000       2.593       2.593\n",
       "x1         -4.236e-05    3.9e-07   -108.491      0.000   -4.32e-05   -4.15e-05\n",
       "==============================================================================\n",
       "Omnibus:                       16.981   Durbin-Watson:                   0.351\n",
       "Prob(Omnibus):                  0.000   Jarque-Bera (JB):               17.304\n",
       "Skew:                           1.739   Prob(JB):                     0.000175\n",
       "Kurtosis:                       5.771   Cond. No.                         19.8\n",
       "==============================================================================\n",
       "\n",
       "Warnings:\n",
       "[1] Standard Errors assume that the covariance matrix of the errors is correctly specified.\n",
       "\"\"\""
      ]
     },
     "execution_count": 152,
     "metadata": {},
     "output_type": "execute_result"
    }
   ],
   "source": [
    "######################\n",
    "### Fit All Models ###\n",
    "######################\n",
    "\n",
    "import statsmodels.api as sm \n",
    "\n",
    "x = parsec[test_iso]['Hmag']\n",
    "y = parsec[test_iso]['int_IMF']\n",
    "\n",
    "x = sm.add_constant(x)\n",
    "\n",
    "model = sm.OLS(y,x)\n",
    "results = model.fit()\n",
    "results.params\n",
    "results.summary()"
   ]
  },
  {
   "cell_type": "code",
   "execution_count": 156,
   "metadata": {},
   "outputs": [],
   "source": [
    "def test_imf(mag):\n",
    "    return results.params[0]+results.params[1]*mag"
   ]
  },
  {
   "cell_type": "code",
   "execution_count": 157,
   "metadata": {},
   "outputs": [
    {
     "data": {
      "text/plain": [
       "2.59350271060034"
      ]
     },
     "execution_count": 157,
     "metadata": {},
     "output_type": "execute_result"
    }
   ],
   "source": [
    "test_imf(-1.5)"
   ]
  },
  {
   "cell_type": "code",
   "execution_count": 13,
   "metadata": {},
   "outputs": [
    {
     "data": {
      "text/plain": [
       "(array([ 481., 1760., 2032., 2212., 2885., 2726., 1822., 1239.,  767.,\n",
       "         197.]),\n",
       " array([-6.665 , -5.8131, -4.9612, -4.1093, -3.2574, -2.4055, -1.5536,\n",
       "        -0.7017,  0.1502,  1.0021,  1.854 ]),\n",
       " <a list of 10 Patch objects>)"
      ]
     },
     "execution_count": 13,
     "metadata": {},
     "output_type": "execute_result"
    },
    {
     "data": {
      "image/png": "[encoded data removed]",
      "text/plain": [
       "<Figure size 432x288 with 1 Axes>"
      ]
     },
     "metadata": {
      "needs_background": "light"
     },
     "output_type": "display_data"
    }
   ],
   "source": [
    "plt.hist(parsec['Hmag'])"
   ]
  },
  {
   "cell_type": "code",
   "execution_count": 82,
   "metadata": {},
   "outputs": [
    {
     "data": {
      "text/plain": [
       "3.9311e-05"
      ]
     },
     "execution_count": 82,
     "metadata": {},
     "output_type": "execute_result"
    }
   ],
   "source": [
    "np.absolute(np.unique(np.asarray(parsec['Zini']))-(0.02*(10**-3))*np.ones(len(np.unique(np.asarray(parsec['Zini'])))))\n",
    "\n",
    "\n",
    "np.unique(np.asarray(parsec['Zini']))"
   ]
  },
  {
   "cell_type": "code",
   "execution_count": 107,
   "metadata": {},
   "outputs": [
    {
     "name": "stdout",
     "output_type": "stream",
     "text": [
      "-0.3\n",
      "[-3. -3. -3. -2. -2. -2. -2. -2. -2. -2. -2. -2. -2. -1. -1. -1. -1. -1.\n",
      " -1. -1. -1. -1. -1. -0. -0. -0. -0. -0.]\n"
     ]
    }
   ],
   "source": [
    "np.round(np.copy(np.unique(np.asarray(np.log10(parsec['Zini']/0.02)))))\n",
    "diff = np.absolute(test+0.3*np.ones(len(test))).argmin()\n",
    "print(-0.3)\n",
    "print(test)"
   ]
  },
  {
   "cell_type": "code",
   "execution_count": 105,
   "metadata": {},
   "outputs": [
    {
     "name": "stdout",
     "output_type": "stream",
     "text": [
      "0.04816999999999999\n",
      "0.047099999999999975\n"
     ]
    }
   ],
   "source": [
    "print(np.abs(-0.3+0.34817))\n",
    "print(np.abs(-0.3+0.2529))\n",
    "\n",
    "# np.unique(np.asarray(parsec['Zini']))[np.abs(np.unique(np.asarray(parsec['Zini']))-(0.02*(10**-3))*np.ones(len(np.unique(np.asarray(parsec['Zini']))))).argmin()]"
   ]
  },
  {
   "cell_type": "code",
   "execution_count": 78,
   "metadata": {},
   "outputs": [
    {
     "data": {
      "text/plain": [
       "16121"
      ]
     },
     "execution_count": 78,
     "metadata": {},
     "output_type": "execute_result"
    }
   ],
   "source": [
    "len(parsec['Zini'])"
   ]
  },
  {
   "cell_type": "code",
   "execution_count": 50,
   "metadata": {},
   "outputs": [
    {
     "name": "stdout",
     "output_type": "stream",
     "text": [
      "Help on function ones in module numpy:\n",
      "\n",
      "ones(shape, dtype=None, order='C')\n",
      "    Return a new array of given shape and type, filled with ones.\n",
      "    \n",
      "    Parameters\n",
      "    ----------\n",
      "    shape : int or sequence of ints\n",
      "        Shape of the new array, e.g., ``(2, 3)`` or ``2``.\n",
      "    dtype : data-type, optional\n",
      "        The desired data-type for the array, e.g., `numpy.int8`.  Default is\n",
      "        `numpy.float64`.\n",
      "    order : {'C', 'F'}, optional, default: C\n",
      "        Whether to store multi-dimensional data in row-major\n",
      "        (C-style) or column-major (Fortran-style) order in\n",
      "        memory.\n",
      "    \n",
      "    Returns\n",
      "    -------\n",
      "    out : ndarray\n",
      "        Array of ones with the given shape, dtype, and order.\n",
      "    \n",
      "    See Also\n",
      "    --------\n",
      "    ones_like : Return an array of ones with shape and type of input.\n",
      "    empty : Return a new uninitialized array.\n",
      "    zeros : Return a new array setting values to zero.\n",
      "    full : Return a new array of given shape filled with value.\n",
      "    \n",
      "    \n",
      "    Examples\n",
      "    --------\n",
      "    >>> np.ones(5)\n",
      "    array([ 1.,  1.,  1.,  1.,  1.])\n",
      "    \n",
      "    >>> np.ones((5,), dtype=int)\n",
      "    array([1, 1, 1, 1, 1])\n",
      "    \n",
      "    >>> np.ones((2, 1))\n",
      "    array([[ 1.],\n",
      "           [ 1.]])\n",
      "    \n",
      "    >>> s = (2,2)\n",
      "    >>> np.ones(s)\n",
      "    array([[ 1.,  1.],\n",
      "           [ 1.,  1.]])\n",
      "\n"
     ]
    }
   ],
   "source": [
    "help(np.ones)"
   ]
  },
  {
   "cell_type": "code",
   "execution_count": null,
   "metadata": {},
   "outputs": [],
   "source": []
  }
 ],
 "metadata": {
  "kernelspec": {
   "display_name": "Python 3",
   "language": "python",
   "name": "python3"
  },
  "language_info": {
   "codemirror_mode": {
    "name": "ipython",
    "version": 3
   },
   "file_extension": ".py",
   "mimetype": "text/x-python",
   "name": "python",
   "nbconvert_exporter": "python",
   "pygments_lexer": "ipython3",
   "version": "3.7.1"
  }
 },
 "nbformat": 4,
 "nbformat_minor": 2
}
