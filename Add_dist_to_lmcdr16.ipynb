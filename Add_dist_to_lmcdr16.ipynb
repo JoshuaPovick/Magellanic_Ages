{
 "cells": [
  {
   "cell_type": "markdown",
   "metadata": {},
   "source": [
    "Add Distances to LMC dr16"
   ]
  },
  {
   "cell_type": "code",
   "execution_count": 5,
   "metadata": {},
   "outputs": [],
   "source": [
    "##################################\n",
    "### Import the usual libraries ###\n",
    "##################################\n",
    "\n",
    "import numpy as np\n",
    "\n",
    "import astropy\n",
    "from astropy.io import fits, ascii\n",
    "from astropy.table import Table, Column\n",
    "import astropy.coordinates as coord\n",
    "from astropy.coordinates import SkyCoord\n",
    "import astropy.constants as const\n",
    "import astropy.units as u\n",
    "\n",
    "\n",
    "import matplotlib\n",
    "from matplotlib.patches import Ellipse\n",
    "import matplotlib.pyplot as plt\n",
    "%matplotlib inline\n",
    "matplotlib.rcParams.update({'font.size': 16}) #make plots more readable\n",
    "\n",
    "import MagellanicStream as ms\n",
    "\n",
    "from uncertainties import ufloat\n",
    "\n",
    "from scipy.optimize import curve_fit\n",
    "\n",
    "import warnings\n",
    "warnings.filterwarnings('ignore')\n",
    "\n",
    "##############################\n",
    "### User defined functions ###\n",
    "##############################\n",
    "\n",
    "#find duplicates in data\n",
    "def dups(data):\n",
    "    list_data = list(data)\n",
    "    keys = []\n",
    "    values = []\n",
    "    not_uniq = list(set([x for x in list_data if list_data.count(x)>1]))\n",
    "    for i in range(len(not_uniq)):\n",
    "        keys.append(not_uniq[i])\n",
    "        values.append(np.where(data==not_uniq[i]))\n",
    "    idx = dict(zip(keys, values))\n",
    "    return not_uniq, idx\n",
    "\n",
    "#calculate absolute mag\n",
    "def absmag(magnitude,distance,par):\n",
    "    ''' !!! Parallax must have units of mas and distances must have units of kpc!!! '''\n",
    "    absm = []\n",
    "    if par == True: #if distance is given as parallax\n",
    "        dist = np.reciprocal(distance)*1000\n",
    "        absm.append(magnitude-5.0*np.log10(dist)+5.0)\n",
    "        absm = np.squeeze(np.array(absm))\n",
    "    else: #if distance is given as distance\n",
    "        absm.append(magnitude-5.0*np.log10(distance*1000)+5.0)\n",
    "        absm = np.squeeze(np.array(absm))\n",
    "    return absm\n",
    "\n",
    "# Modified version of the above to test \n",
    "def dist2LMCtest(ra, dec, alph0, delt0, pa, io):\n",
    "    ra1 = np.copy(ra)\n",
    "    dec1 = np.copy(dec)\n",
    "    ra1 = np.radians(ra1)\n",
    "    dec1 = np.radians(dec1)\n",
    "    alph0 = np.radians(alph0) #np.radians(82.25) #ra of LMC center\n",
    "    delt0 = np.radians(delt0) #np.radians(-69.5) #dec of LMC center\n",
    "    sd = np.sin(delt0)\n",
    "    cd = np.cos(delt0)\n",
    "    d0 = 49.9\n",
    "    io = np.radians(io) #inclination #25.86\n",
    "    pa = np.radians(pa+90) #np.radians(149.37+90)  #position angle of line-of-nodes\n",
    "    cosr = cd*np.cos(dec1)*np.cos(ra1-alph0)+sd*np.sin(dec1)\n",
    "    sinrcosph = -np.cos(dec1)*np.sin(ra1-alph0)\n",
    "    sinrsinph = cd*np.sin(dec1)-sd*np.cos(dec1)*np.cos(ra1-alph0)\n",
    "    dis = d0*np.cos(io)/(np.cos(io)*cosr-np.sin(io)*np.cos(pa)*sinrsinph+np.sin(io)*np.sin(pa)*sinrcosph)\n",
    "    return dis\n",
    "\n",
    "\n",
    "#######################\n",
    "### Age of Universe ###\n",
    "#######################\n",
    "\n",
    "'''\n",
    "@article{riess2019large,\n",
    "  title={Large Magellanic Cloud Cepheid Standards Provide a 1\\% Foundation for the Determination of the Hubble Constant and Stronger Evidence for Physics Beyond LambdaCDM},\n",
    "  author={Riess, Adam G and Casertano, Stefano and Yuan, Wenlong and Macri, Lucas M and Scolnic, Dan},\n",
    "  journal={arXiv preprint arXiv:1903.07603},\n",
    "  year={2019}\n",
    "}\n",
    "'''\n",
    "\n",
    "#Value 74.03 \\pm 1.42 (km/s)/Mpc\n",
    "\n",
    "H0 = 74.03*(u.km/u.s)/u.Mpc\n",
    "hertz = H0.to(u.km/u.s/u.pc).to(u.km/u.s/u.km)\n",
    "tage = (1/hertz).to(u.yr)\n",
    "ageU = tage.value"
   ]
  },
  {
   "cell_type": "code",
   "execution_count": 2,
   "metadata": {},
   "outputs": [],
   "source": [
    "#######################\n",
    "### Import the Data ###\n",
    "#######################\n",
    "\n",
    "lmcdr16 = fits.getdata('/Users/joshpovick/Desktop/Research/Magellanic_Ages/lmc_rgbmembers.dr16beta.fits',1)\n",
    "lmcdr16 = Table(lmcdr16)"
   ]
  },
  {
   "cell_type": "code",
   "execution_count": 7,
   "metadata": {},
   "outputs": [],
   "source": [
    "##############################################\n",
    "### Create Distance Column and Add to Fits ###\n",
    "##############################################\n",
    "\n",
    "distance = dist2LMCtest(lmcdr16['RA'], lmcdr16['DEC'], 82.25, -69.5, 146.37, 27.81)\n",
    "\n",
    "dist = Column(distance, name='dist')\n",
    "lmcdr16.add_column(dist)\n",
    "lmcdr16.write('/Users/joshpovick/Desktop/Research/Magellanic_Ages/lmc_rgbmembersdist.dr16beta.fits',format='fits',overwrite=True)"
   ]
  },
  {
   "cell_type": "code",
   "execution_count": 10,
   "metadata": {},
   "outputs": [
    {
     "name": "stdout",
     "output_type": "stream",
     "text": [
      "[50.4238039  50.49532667 50.44452803 ... 47.4792664  47.36071355\n",
      " 47.32460332]\n"
     ]
    }
   ],
   "source": [
    "test = fits.getdata('/Users/joshpovick/Desktop/Research/Magellanic_Ages/lmc_rgbmembersdist.dr16beta.fits')\n",
    "print(test['dist'])"
   ]
  },
  {
   "cell_type": "code",
   "execution_count": null,
   "metadata": {},
   "outputs": [],
   "source": []
  }
 ],
 "metadata": {
  "kernelspec": {
   "display_name": "Python 3",
   "language": "python",
   "name": "python3"
  },
  "language_info": {
   "codemirror_mode": {
    "name": "ipython",
    "version": 3
   },
   "file_extension": ".py",
   "mimetype": "text/x-python",
   "name": "python",
   "nbconvert_exporter": "python",
   "pygments_lexer": "ipython3",
   "version": "3.7.1"
  }
 },
 "nbformat": 4,
 "nbformat_minor": 2
}
