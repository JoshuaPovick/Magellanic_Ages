{
 "cells": [
  {
   "cell_type": "markdown",
   "metadata": {},
   "source": [
    "$\n",
    "\\huge{\\textbf{BaSTI And Parsec Notebook}\n",
    "}\n",
    "$"
   ]
  },
  {
   "cell_type": "code",
   "execution_count": 1,
   "metadata": {},
   "outputs": [],
   "source": [
    "##################################\n",
    "### Import the usual libraries ###\n",
    "##################################\n",
    "\n",
    "import numpy as np\n",
    "\n",
    "import astropy\n",
    "from astropy.io import fits, ascii\n",
    "from astropy.table import Table, vstack, Column\n",
    "import astropy.coordinates as coord\n",
    "from astropy.coordinates import SkyCoord\n",
    "import astropy.units as u\n",
    "\n",
    "import matplotlib\n",
    "from matplotlib.patches import Ellipse\n",
    "import matplotlib.pyplot as plt\n",
    "%matplotlib inline\n",
    "matplotlib.rcParams.update({'font.size': 16}) #make plots more readable\n",
    "\n",
    "import MagellanicStream as ms\n",
    "import astropy.units as u\n",
    "from astropy.coordinates import SkyCoord\n",
    "from uncertainties import ufloat\n",
    "\n",
    "import warnings\n",
    "warnings.filterwarnings('ignore')\n",
    "\n",
    "import glob"
   ]
  },
  {
   "cell_type": "code",
   "execution_count": 2,
   "metadata": {},
   "outputs": [],
   "source": [
    "##############################\n",
    "### User defined functions ###\n",
    "##############################\n",
    "\n",
    "def dups(data):\n",
    "    list_data = list(data)\n",
    "    keys = []\n",
    "    values = []\n",
    "    not_uniq = list(set([x for x in list_data if list_data.count(x)>1]))\n",
    "    for i in range(len(not_uniq)):\n",
    "        keys.append(not_uniq[i])\n",
    "        values.append(np.where(data==not_uniq[i]))\n",
    "    idx = dict(zip(keys, values))\n",
    "    return not_uniq, idx\n",
    "\n",
    "def absmag(magnitude,distance,par):\n",
    "    ''' !!! Parallax must have units of mas and distances must have units of kpc!!! '''\n",
    "    absm = []\n",
    "    if par == True: #if distance is given as parallax\n",
    "        dist = np.reciprocal(distance)*1000\n",
    "        absm.append(magnitude-5.0*np.log10(dist)+5.0)\n",
    "        absm = np.squeeze(np.array(absm))\n",
    "    else: #if distance is given as distance\n",
    "        absm.append(magnitude-5.0*np.log10(distance*1000)+5.0)\n",
    "        absm = np.squeeze(np.array(absm))\n",
    "    return absm\n",
    "\n",
    "import pandas as pd #needed for readbasti\n",
    "def readbasti(file):\n",
    "    with open(file) as f:\n",
    "        lines = f.readlines()\n",
    "        met_age = lines[4].split(' ')\n",
    "        met = float(met_age[9]) #9th element after line[4] split\n",
    "        age = float(met_age[-1]) #last element after line[4] split\n",
    "        df = pd.read_csv(file,comment='#',names=['MINI','MFIN','LOGL','LOGT','JMAG','HMAG','KMAG'],sep='\\s+')\n",
    "        table_out = Table.from_pandas(df)\n",
    "        metcol = Column(np.ones(len(table_out))*met, name='FEH')\n",
    "        table_out.add_column(metcol)\n",
    "        agecol = Column(np.log10(np.ones(len(table_out))*(age*10**6)), name='LOGAGE')\n",
    "        table_out.add_column(agecol)\n",
    "        mas = df['MFIN']*(1.99*10**33) #mass in g\n",
    "        tem = 10**df['LOGT'] #T in K\n",
    "        lum = (10**df['LOGL'])*(3.9*10**33) #L in erg/s\n",
    "        lggcol = Column(np.log10((6.67259*10**-8)*(mas)*4*np.pi*(5.67051*10**-5)*(tem**4)/(lum)),name='LOGG')\n",
    "        table_out.add_column(lggcol)\n",
    "    return table_out\n",
    "\n",
    "def mad(dat):\n",
    "    return np.median(np.absolute(dat - np.median(dat)))\n",
    "\n",
    "def sal(MH,aM):\n",
    "    return MH + np.log(0.638*(10**(aM))+0.362)\n",
    "\n",
    "#######################\n",
    "### Age of Universe ###\n",
    "#######################\n",
    "\n",
    "'''\n",
    "@article{riess2019large,\n",
    "  title={Large Magellanic Cloud Cepheid Standards Provide a 1\\% Foundation for the Determination of the Hubble Constant and Stronger Evidence for Physics Beyond LambdaCDM},\n",
    "  author={Riess, Adam G and Casertano, Stefano and Yuan, Wenlong and Macri, Lucas M and Scolnic, Dan},\n",
    "  journal={arXiv preprint arXiv:1903.07603},\n",
    "  year={2019}\n",
    "}\n",
    "'''\n",
    "\n",
    "#Value 74.03 \\pm 1.42 (km/s)/Mpc\n",
    "\n",
    "H0 = 74.03*(u.km/u.s)/u.Mpc\n",
    "hertz = H0.to(u.km/u.s/u.pc).to(u.km/u.s/u.km)\n",
    "tage = (1/hertz).to(u.yr)\n",
    "ageU = tage.value"
   ]
  },
  {
   "cell_type": "code",
   "execution_count": 3,
   "metadata": {},
   "outputs": [],
   "source": [
    "#############################\n",
    "### Import Synthetic Data ###\n",
    "#############################\n",
    "\n",
    "#PARSEC\n",
    "filepath2 = '/Users/joshpovick/Desktop/Research/Magellanic_Ages/logisochrones.dat' \n",
    "logiso = ascii.read(filepath2, format='basic', delimiter='\\s')\n",
    "logiso = Table(logiso)\n",
    "\n",
    "#BaSTI\n",
    "nom = ['MINI','MFIN','LOGL','LOGT','JMAG','HMAG','KMAG','FEH','LOGAGE','LOGG']\n",
    "rgbdat = pd.read_csv('/Users/joshpovick/Desktop/Research/Magellanic_Ages/basti_rgb.dat',names=nom)\n",
    "trgb = Table.from_pandas(rgbdat)\n",
    "tempcut = np.where(trgb['LOGT']<=3.75)\n",
    "trgb = trgb[tempcut]\n",
    "\n",
    "#DR 16 with distances in DIST column\n",
    "lmcdr16 = fits.getdata('/Users/joshpovick/Desktop/Research/Magellanic_Ages/lmc_rgbmembersdist.dr16beta.fits',1)\n",
    "clnr = np.where((lmcdr16['FE_H']>-9999.0)&(lmcdr16['AK_TARG']>-9999.0)&(lmcdr16['LOGG']>0.0)&(lmcdr16['LOGG']<2.0)&\\\n",
    "                (lmcdr16['M_H_ERR']>-90.0))\n",
    "clndr16 =lmcdr16[clnr]"
   ]
  },
  {
   "cell_type": "code",
   "execution_count": 4,
   "metadata": {},
   "outputs": [],
   "source": [
    "###############################\n",
    "### PARSEC and BaSTI Models ###\n",
    "###############################\n",
    "\n",
    "'''\n",
    "x1: logT\n",
    "x2: K\n",
    "x3: feh\n",
    "x4: logg\n",
    "'''\n",
    "\n",
    "def modelparsec(x1,x2,x3,x4):\n",
    "    p = [4.52271170e+02,-2.45756963e+02,1.23004992e+00,-8.43079619e-01,1.50107300e+01,\\\n",
    "         5.55614699e-01,2.33494763e-01,-6.40147708e+00,-6.73945112e-01,3.53816153e+01,1.33852966e-01,\\\n",
    "         9.73455106e-01]\n",
    "    out = p[0]+p[1]*x1+p[2]*x2+p[3]*x3+p[4]*x4+p[5]*x1*x2+p[6]*x1*x3+p[7]*x1*x4+p[8]*x2*x4+p[9]*x1**2+\\\n",
    "    p[10]*x2**2+p[11]*x4**2 \n",
    "    return out\n",
    "\n",
    "def modelbasti(x1,x2,x3,x4):\n",
    "    p = [5.23433476e+03,-3.97205558e+03,8.20841073e+01,-9.21763525e+01,\\\n",
    "         2.06637009e+01,-4.35505072e+01,4.87362445e+01,-8.22172772e+00,\\\n",
    "         -8.29707077e-01,-6.43772879e+00,6.05155923e+00 ,1.00029946e+03,\\\n",
    "         1.62862241e-01,1.13536509e+00,-8.29688025e+01,-3.89188238e-03]\n",
    "    out = p[0]+p[1]*x1+p[2]*x2+p[3]*x3+p[4]*x4+p[5]*np.multiply(x1,x2)+p[6]*np.multiply(x1,x3)+\\\n",
    "    p[7]*np.multiply(x1,x4)+p[8]*np.multiply(x2,x4)+p[9]*np.multiply(x1**2,x3)+p[10]*np.multiply(x1**2,x2)+\\\n",
    "    p[11]*(x1**2)+p[12]*(x2**2)+p[13]*(x4**2)+p[14]*(x1**3)+p[15]*(x4**3)\n",
    "    return out\n",
    "    \n"
   ]
  },
  {
   "cell_type": "code",
   "execution_count": 6,
   "metadata": {},
   "outputs": [],
   "source": [
    "#######################\n",
    "### Age Calculation ###\n",
    "#######################\n",
    "\n",
    "absK = absmag(clndr16['K'],clndr16['DIST'],False)-clndr16['AK_TARG']\n",
    "salfeh = sal(clndr16['M_H'],clndr16['ALPHA_M'])\n",
    "\n",
    "p_age = modelparsec(np.log10(clndr16['TEFF']),absK,salfeh,clndr16['LOGG'])\n",
    "b_age = modelbasti(np.log10(clndr16['TEFF']),absK,salfeh,clndr16['LOGG'])\n",
    "\n",
    "#Synthetic data residuals\n",
    "pFE_H = np.log10(logiso['Zini']/0.02)\n",
    "# p_res = modelparsec(logiso['logTe'],logiso['Ksmag'],pFE_H,logiso['logg']) - logiso['logAge']\n",
    "# b_res = modelbasti(tbasti['LOGT'],tbasti['KMAG'],tbasti['FEH'],tbasti['LOGG']) - tbasti['LOGAGE']"
   ]
  },
  {
   "cell_type": "code",
   "execution_count": null,
   "metadata": {},
   "outputs": [],
   "source": [
    "clndr16.columns"
   ]
  },
  {
   "cell_type": "code",
   "execution_count": 7,
   "metadata": {},
   "outputs": [
    {
     "data": {
      "image/png": "[encoded data removed]",
      "text/plain": [
       "<Figure size 720x720 with 1 Axes>"
      ]
     },
     "metadata": {
      "needs_background": "light"
     },
     "output_type": "display_data"
    },
    {
     "name": "stdout",
     "output_type": "stream",
     "text": [
      "0.034079714515625525\n"
     ]
    }
   ],
   "source": [
    "#################################\n",
    "### Difference Between Models ###\n",
    "#################################\n",
    "\n",
    "plt.figure(figsize=[10,10])\n",
    "plt.hist(p_age-b_age,color='k',bins=25)\n",
    "#plt.plot([7,8,9,10,11,12,13],[7,8,9,10,11,12,13],c='tab:green')\n",
    "#plt.ylim(7,13)\n",
    "plt.xlabel(r'Residuals')\n",
    "plt.title(r'Resdiuals Bewteen Methods')\n",
    "plt.savefig('res_2_methods.pdf',bbox_inches='tight')\n",
    "plt.show()\n",
    "print(mad(p_age-b_age))"
   ]
  },
  {
   "cell_type": "code",
   "execution_count": 8,
   "metadata": {},
   "outputs": [
    {
     "data": {
      "image/png": "[encoded data removed]",
      "text/plain": [
       "<Figure size 720x720 with 1 Axes>"
      ]
     },
     "metadata": {
      "needs_background": "light"
     },
     "output_type": "display_data"
    }
   ],
   "source": [
    "#################################\n",
    "### Compare models Age to Age ###\n",
    "#################################\n",
    "\n",
    "plt.figure(figsize=[10,10])\n",
    "plt.scatter(p_age,b_age,c='k',marker='+')\n",
    "plt.plot([7,8,9,10,11,12,13],[7,8,9,10,11,12,13],c='tab:green')\n",
    "plt.ylim(7,13)\n",
    "plt.xlabel(r'PARSEC Ages')\n",
    "plt.ylabel(r'BasTI Ages')\n",
    "plt.title(r'Age to Age')\n",
    "plt.savefig('page_bage.pdf',bbox_inches='tight')\n",
    "plt.show()"
   ]
  },
  {
   "cell_type": "code",
   "execution_count": null,
   "metadata": {},
   "outputs": [],
   "source": []
  },
  {
   "cell_type": "code",
   "execution_count": null,
   "metadata": {},
   "outputs": [],
   "source": []
  }
 ],
 "metadata": {
  "kernelspec": {
   "display_name": "Python 3",
   "language": "python",
   "name": "python3"
  },
  "language_info": {
   "codemirror_mode": {
    "name": "ipython",
    "version": 3
   },
   "file_extension": ".py",
   "mimetype": "text/x-python",
   "name": "python",
   "nbconvert_exporter": "python",
   "pygments_lexer": "ipython3",
   "version": "3.7.1"
  }
 },
 "nbformat": 4,
 "nbformat_minor": 2
}
