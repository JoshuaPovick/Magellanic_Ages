{
 "cells": [
  {
   "cell_type": "code",
   "execution_count": 1,
   "metadata": {},
   "outputs": [],
   "source": [
    "##################################\n",
    "### Import the usual libraries ###\n",
    "##################################\n",
    "\n",
    "import numpy as np\n",
    "\n",
    "import astropy\n",
    "from astropy.io import fits, ascii\n",
    "from astropy.table import Table, Column\n",
    "import astropy.coordinates as coord\n",
    "from astropy.coordinates import SkyCoord\n",
    "import astropy.constants as const\n",
    "import astropy.units as u\n",
    "\n",
    "import pandas as pd\n",
    "\n",
    "import glob\n",
    "\n",
    "import matplotlib\n",
    "from matplotlib.patches import Ellipse\n",
    "import matplotlib.pyplot as plt\n",
    "%matplotlib inline\n",
    "matplotlib.rcParams.update({'font.size': 18}) #make plots more readable\n",
    "\n",
    "import MagellanicStream as ms\n",
    "\n",
    "import dlnpyutils\n",
    "\n",
    "import warnings\n",
    "warnings.filterwarnings('ignore')\n",
    "\n",
    "##############################\n",
    "### User defined functions ###\n",
    "##############################\n",
    "\n",
    "#find duplicates in data\n",
    "def dups(data):\n",
    "    list_data = list(data)\n",
    "    keys = []\n",
    "    values = []\n",
    "    not_uniq = list(set([x for x in list_data if list_data.count(x)>1]))\n",
    "    for i in range(len(not_uniq)):\n",
    "        keys.append(not_uniq[i])\n",
    "        values.append(np.where(data==not_uniq[i]))\n",
    "    idx = dict(zip(keys, values))\n",
    "    return not_uniq, idx\n",
    "\n",
    "#calculate absolute mag\n",
    "def absmag(magnitude,distance,par):\n",
    "    ''' !!! Parallax must have units of mas and distances must have units of kpc!!! '''\n",
    "    absm = []\n",
    "    if par == True: #if distance is given as parallax\n",
    "        dist = np.reciprocal(distance)*1000\n",
    "        absm.append(magnitude-5.0*np.log10(dist)+5.0)\n",
    "        absm = np.squeeze(np.array(absm))\n",
    "    else: #if distance is given as distance\n",
    "        absm.append(magnitude-5.0*np.log10(distance*1000)+5.0)\n",
    "        absm = np.squeeze(np.array(absm))\n",
    "    return absm\n",
    "\n",
    "def dist2LMCtest(ra, dec, alph0, delt0, pa, io):\n",
    "    ra1 = np.copy(ra)\n",
    "    dec1 = np.copy(dec)\n",
    "    ra1 = np.radians(ra1)\n",
    "    dec1 = np.radians(dec1)\n",
    "    alph0 = np.radians(alph0) #np.radians(82.25) #ra of LMC center\n",
    "    delt0 = np.radians(delt0) #np.radians(-69.5) #dec of LMC center\n",
    "    sd = np.sin(delt0)\n",
    "    cd = np.cos(delt0)\n",
    "    d0 = 49.9\n",
    "    io = io*np.pi/180 #np.radians(io) #inclination #25.86\n",
    "    pa = pa*np.pi/180 #np.radians(pa+90) #np.radians(149.37+90)  #position angle of line-of-nodes\n",
    "    cosr = cd*np.cos(dec1)*np.cos(ra1-alph0)+sd*np.sin(dec1)\n",
    "    sinrcosph = -np.cos(dec1)*np.sin(ra1-alph0)\n",
    "    sinrsinph = cd*np.sin(dec1)-sd*np.cos(dec1)*np.cos(ra1-alph0)\n",
    "    dis = d0*np.cos(io)/(np.cos(io)*cosr-np.sin(io)*np.cos(pa)*sinrsinph+np.sin(io)*np.sin(pa)*sinrcosph)\n",
    "    return dis\n",
    "\n",
    "def readmist(file):\n",
    "    with open(file) as f:\n",
    "        #lines = f.readlines()\n",
    "        df = pd.read_csv(file,comment='#',names = ['EEP','log10_isochrone_age_yr','initial_mass',\\\n",
    "                                                   'star_mass','log_Teff','log_g','log_L','FeH_init',\\\n",
    "                                                   'FeH','Bessell_U','Bessell_B','Bessell_V','Bessell_R',\\\n",
    "                                                   'Bessell_I','2MASS_J','2MASS_H','2MASS_Ks','Kepler_Kp',\\\n",
    "                                                   'Kepler_D51','Hipparcos_Hp','Tycho_B','Tycho_V',\\\n",
    "                                                   'Gaia_G_DR2Rev','Gaia_BP_DR2Rev','Gaia_RP_DR2Rev',\\\n",
    "                                                   'Gaia_G_MAW','Gaia_BP_MAWb','Gaia_BP_MAWf','Gaia_RP_MAW',\\\n",
    "                                                   'TESS','phase'],sep='\\s+')\n",
    "        table_out = Table.from_pandas(df)\n",
    "    return table_out\n",
    "\n",
    "def sal(MH,aM):\n",
    "    return MH + np.log(0.638*(10**(aM))+0.362)\n",
    "\n",
    "def mad(dat): #median absolute deviation\n",
    "    return np.median(np.absolute(dat - np.median(dat)))\n",
    "\n",
    "#######################\n",
    "### Age of Universe ###\n",
    "#######################\n",
    "\n",
    "'''\n",
    "@article{riess2019large,\n",
    "  title={Large Magellanic Cloud Cepheid Standards Provide a 1\\% Foundation for the Determination of the Hubble Constant and Stronger Evidence for Physics Beyond LambdaCDM},\n",
    "  author={Riess, Adam G and Casertano, Stefano and Yuan, Wenlong and Macri, Lucas M and Scolnic, Dan},\n",
    "  journal={arXiv preprint arXiv:1903.07603},\n",
    "  year={2019}\n",
    "}\n",
    "'''\n",
    "\n",
    "#Value 74.03 \\pm 1.42 (km/s)/Mpc\n",
    "\n",
    "H0 = 74.03*(u.km/u.s)/u.Mpc\n",
    "hertz = H0.to(u.km/u.s/u.pc).to(u.km/u.s/u.km)\n",
    "tage = (1/hertz).to(u.yr)\n",
    "ageU = tage.value"
   ]
  },
  {
   "cell_type": "code",
   "execution_count": 2,
   "metadata": {},
   "outputs": [],
   "source": [
    "### PARSEC ###\n",
    "\n",
    "parsecall = ascii.read('/Users/joshpovick/Desktop/Research/Magellanic_Ages/logisochrones.dat', \\\n",
    "                    format='basic', delimiter='\\s')\n",
    "\n",
    "rgb = np.where(parsecall['label']==3)\n",
    "parsec = parsecall[rgb]\n",
    "\n",
    "### BaSTI ###\n",
    "\n",
    "#Read in RGB dat file\n",
    "nom = ['MINI','MFIN','LOGL','LOGT','JMAG','HMAG','KMAG','FEH','LOGAGE','LOGG']\n",
    "bastiall = pd.read_csv('/Users/joshpovick/Desktop/Research/Magellanic_Ages/basti_rgb.dat',names=nom)\n",
    "tbastiall = Table.from_pandas(bastiall)\n",
    "tempgravcut = np.where((tbastiall['LOGT']<=3.75)&(tbastiall['LOGG']<3.5))\n",
    "basti = tbastiall[tempgravcut]\n",
    "\n",
    "#DR16\n",
    "lmcdr16 = fits.getdata('/Users/joshpovick/Desktop/Research/Magellanic_Ages/lmc_rgbmembersdist.dr16beta.fits',1)\n",
    "clnr = np.where((lmcdr16['FE_H']>-9999.0)&(lmcdr16['AK_TARG']>-9999.0)&(lmcdr16['LOGG']>0.0)&\\\n",
    "                (lmcdr16['M_H_ERR']>-90.0)&(lmcdr16['C_FE']>-9999.0)&(lmcdr16['N_FE']>-9999.0))\n",
    "\n",
    "clndr16 = lmcdr16[clnr]\n",
    "\n",
    "#Diane Feuillet\n",
    "pdfout = fits.getdata('/Users/joshpovick/Desktop/Research/Magellanic_Ages/LMC_DR16_all_PDF.fits' , 1)\n",
    "clnpdfout = pdfout[clnr]\n",
    "\n",
    "### MIST ###\n",
    "\n",
    "mistall = pd.read_csv('/Users/joshpovick/Desktop/Research/Magellanic_Ages/MIST_monarch.dat')\n",
    "tmistall = Table.from_pandas(mistall)\n",
    "rgb = np.where((tmistall['EEP']>=495)&(tmistall['EEP']<=605)&(tmistall['log_Teff']<=3.75))\n",
    "mist = tmistall[rgb]"
   ]
  },
  {
   "cell_type": "code",
   "execution_count": 8,
   "metadata": {},
   "outputs": [
    {
     "data": {
      "text/plain": [
       "array([5.87174  , 3.5687993, 4.563095 , ..., 5.1106377, 3.75001  ,\n",
       "       4.3422804], dtype=float32)"
      ]
     },
     "execution_count": 8,
     "metadata": {},
     "output_type": "execute_result"
    }
   ],
   "source": [
    "### Calculate [C/M] and [N/M]\n",
    "CM = clndr16['C_FE'] + clndr16['FE_H'] - clndr16['M_H']\n",
    "NM = clndr16['N_FE'] + clndr16['FE_H'] - clndr16['M_H']\n",
    "al = clndr16['ALPHA_M']\n",
    "\n",
    "fa = 10**(al)+10**(CM)+10**(NM)\n",
    "\n",
    "sal(clndr16['M_H'],fa)"
   ]
  },
  {
   "cell_type": "code",
   "execution_count": 10,
   "metadata": {},
   "outputs": [
    {
     "data": {
      "text/plain": [
       "(array([1.244e+03, 8.880e+02, 1.470e+02, 2.200e+01, 3.000e+00, 1.000e+00,\n",
       "        0.000e+00, 0.000e+00, 1.000e+00, 1.000e+00]),\n",
       " array([ 3.9685607,  6.32153  ,  8.674499 , 11.027468 , 13.380437 ,\n",
       "        15.733406 , 18.086374 , 20.439344 , 22.792313 , 25.145283 ,\n",
       "        27.498251 ], dtype=float32),\n",
       " <a list of 10 Patch objects>)"
      ]
     },
     "execution_count": 10,
     "metadata": {},
     "output_type": "execute_result"
    },
    {
     "data": {
      "image/png": "[encoded data removed]",
      "text/plain": [
       "<Figure size 432x288 with 1 Axes>"
      ]
     },
     "metadata": {
      "needs_background": "light"
     },
     "output_type": "display_data"
    }
   ],
   "source": [
    "plt.hist(np.log(0.638*(10**(fa))+0.362))"
   ]
  },
  {
   "cell_type": "code",
   "execution_count": 12,
   "metadata": {},
   "outputs": [
    {
     "data": {
      "text/plain": [
       "(array([  20.,  165., 1022.,  691.,  196.,  164.,   38.,    7.,    2.,\n",
       "           2.]),\n",
       " array([-0.25632   , -0.134518  , -0.01271601,  0.10908599,  0.23088798,\n",
       "         0.35268998,  0.47449198,  0.596294  ,  0.71809596,  0.839898  ,\n",
       "         0.96169996], dtype=float32),\n",
       " <a list of 10 Patch objects>)"
      ]
     },
     "execution_count": 12,
     "metadata": {},
     "output_type": "execute_result"
    },
    {
     "data": {
      "image/png": "[encoded data removed]",
      "text/plain": [
       "<Figure size 432x288 with 1 Axes>"
      ]
     },
     "metadata": {
      "needs_background": "light"
     },
     "output_type": "display_data"
    }
   ],
   "source": [
    "plt.hist(clndr16['N_FE'])"
   ]
  },
  {
   "cell_type": "code",
   "execution_count": 13,
   "metadata": {},
   "outputs": [
    {
     "data": {
      "text/plain": [
       "(array([  5.,  13.,  17.,  57., 120., 231., 578., 921., 332.,  33.]),\n",
       " array([-2.1124663 , -1.9149823 , -1.7174983 , -1.5200143 , -1.3225303 ,\n",
       "        -1.1250464 , -0.92756236, -0.73007834, -0.5325943 , -0.3351103 ,\n",
       "        -0.13762632], dtype=float32),\n",
       " <a list of 10 Patch objects>)"
      ]
     },
     "execution_count": 13,
     "metadata": {},
     "output_type": "execute_result"
    },
    {
     "data": {
      "image/png": "[encoded data removed]",
      "text/plain": [
       "<Figure size 432x288 with 1 Axes>"
      ]
     },
     "metadata": {
      "needs_background": "light"
     },
     "output_type": "display_data"
    }
   ],
   "source": [
    "plt.hist(clndr16['FE_H'])"
   ]
  },
  {
   "cell_type": "code",
   "execution_count": 14,
   "metadata": {},
   "outputs": [
    {
     "data": {
      "text/plain": [
       "(array([  5.,  10.,  20.,  59., 128., 256., 571., 907., 319.,  32.]),\n",
       " array([-2.1842663 , -1.9769703 , -1.7696743 , -1.5623783 , -1.3550823 ,\n",
       "        -1.1477864 , -0.9404903 , -0.7331943 , -0.52589834, -0.31860232,\n",
       "        -0.11130632], dtype=float32),\n",
       " <a list of 10 Patch objects>)"
      ]
     },
     "execution_count": 14,
     "metadata": {},
     "output_type": "execute_result"
    },
    {
     "data": {
      "image/png": "[encoded data removed]",
      "text/plain": [
       "<Figure size 432x288 with 1 Axes>"
      ]
     },
     "metadata": {
      "needs_background": "light"
     },
     "output_type": "display_data"
    }
   ],
   "source": [
    "plt.hist(clndr16['M_H'])"
   ]
  },
  {
   "cell_type": "code",
   "execution_count": 15,
   "metadata": {},
   "outputs": [
    {
     "data": {
      "image/png": "[encoded data removed]",
      "text/plain": [
       "<Figure size 864x864 with 1 Axes>"
      ]
     },
     "metadata": {
      "needs_background": "light"
     },
     "output_type": "display_data"
    },
    {
     "data": {
      "text/plain": [
       "0.055739436"
      ]
     },
     "execution_count": 15,
     "metadata": {},
     "output_type": "execute_result"
    }
   ],
   "source": [
    "cm = clndr16['C_FE'] + clndr16['FE_H'] - clndr16['M_H']\n",
    "nm = clndr16['N_FE'] + clndr16['FE_H'] - clndr16['M_H']\n",
    "newalpha = np.log10(10**clndr16['ALPHA_M']+10**cm+10**nm)\n",
    "\n",
    "plt.figure(figsize=[12,12])\n",
    "plt.hist(clndr16['M_H']+np.log(0.638*(10**(newalpha))+0.362),label='With C and N')\n",
    "plt.hist(clndr16['M_H']+np.log(0.638*(10**(clndr16['ALPHA_M']))+0.362),label='Without C and N')\n",
    "plt.hist(clndr16['M_H'],label=r'$[M/H]$')\n",
    "plt.xlabel(r'Metallicity')\n",
    "plt.legend()\n",
    "plt.savefig('new_salaris.pdf',bbox_inches='tight')\n",
    "plt.show()\n",
    "\n",
    "np.mean(clndr16['M_H']+np.log(0.638*(10**(newalpha))+0.362))"
   ]
  },
  {
   "cell_type": "code",
   "execution_count": 78,
   "metadata": {},
   "outputs": [],
   "source": [
    "abd = {'C':8.39,'N':7.78,'O':8.66,'Mg':7.53,'Ca':6.31,'S':7.14,'Si':7.51,'Fe':7.45}\n",
    "keys = list(abd.keys())\n",
    "\n",
    "sol_2_H = []\n",
    "for i in keys:\n",
    "    sol_2_H.append(abd[i]-12.0)\n",
    "\n",
    "no_C = []\n",
    "no_N = []\n",
    "no_O = []\n",
    "no_Mg = []\n",
    "no_Ca = []\n",
    "no_S = []\n",
    "no_Si = []\n",
    "no_Fe = []\n",
    "\n",
    "for i in range(len(clndr16)):\n",
    "    no_C.append(10**(clndr16['C_FE'][i]-clndr16['FE_H'][i]+sol_2_H[0]))\n",
    "    no_N.append(10**(clndr16['N_FE'][i]-clndr16['FE_H'][i]+sol_2_H[1]))\n",
    "    no_O.append(10**(clndr16['O_FE'][i]-clndr16['FE_H'][i]+sol_2_H[2]))\n",
    "    no_Mg.append(10**(clndr16['MG_FE'][i]-clndr16['FE_H'][i]+sol_2_H[3]))\n",
    "    no_Ca.append(10**(clndr16['CA_FE'][i]-clndr16['FE_H'][i]+sol_2_H[4]))\n",
    "    no_S.append(10**(clndr16['S_FE'][i]-clndr16['FE_H'][i]+sol_2_H[5]))\n",
    "    no_Si.append(10**(clndr16['SI_FE'][i]-clndr16['FE_H'][i]+sol_2_H[6]))\n",
    "    no_Fe.append(10**(clndr16['FE_H'][i]+sol_2_H[7]))\n",
    "    \n",
    "f_fact = []\n",
    "\n",
    "for j in range(len(clndr16)):\n",
    "    numer = no_C[j]+no_N[j]+no_O[j]+no_Mg[j]+no_Ca[j]+no_S[j]+no_Si[j]+no_Fe[j]\n",
    "    denom = 10**sol_2_H[0]+10**sol_2_H[1]+10**sol_2_H[2]+10**sol_2_H[3]+10**sol_2_H[4]+10**sol_2_H[5]+\\\n",
    "                   10**sol_2_H[6]+10**sol_2_H[7]\n",
    "    f_fact.append(numer/denom)"
   ]
  },
  {
   "cell_type": "code",
   "execution_count": 80,
   "metadata": {
    "scrolled": false
   },
   "outputs": [
    {
     "data": {
      "image/png": "[encoded data removed]",
      "text/plain": [
       "<Figure size 720x720 with 1 Axes>"
      ]
     },
     "metadata": {
      "needs_background": "light"
     },
     "output_type": "display_data"
    }
   ],
   "source": [
    "plt.figure(figsize=[10,10])\n",
    "plt.hist(np.log10(f_fact*(10**(clndr16['ALPHA_M']-clndr16['M_H'])))+clndr16['M_H'],label=r'Salaris [Fe/H]')\n",
    "plt.hist(clndr16['FE_H'],label=r'[Fe/H]')\n",
    "plt.legend()\n",
    "plt.show()"
   ]
  },
  {
   "cell_type": "code",
   "execution_count": 65,
   "metadata": {},
   "outputs": [
    {
     "data": {
      "text/plain": [
       "-2.1603079016213993"
      ]
     },
     "execution_count": 65,
     "metadata": {},
     "output_type": "execute_result"
    }
   ],
   "source": []
  },
  {
   "cell_type": "code",
   "execution_count": 71,
   "metadata": {},
   "outputs": [
    {
     "data": {
      "text/plain": [
       "array([-0.47507334, -1.2713423 , -0.91441935, ..., -0.9188513 ,\n",
       "       -1.1466793 , -0.90823233], dtype=float32)"
      ]
     },
     "execution_count": 71,
     "metadata": {},
     "output_type": "execute_result"
    }
   ],
   "source": [
    "clndr16['ALPHA_M']+clndr16['M_H']"
   ]
  },
  {
   "cell_type": "code",
   "execution_count": null,
   "metadata": {},
   "outputs": [],
   "source": []
  }
 ],
 "metadata": {
  "kernelspec": {
   "display_name": "Python 3",
   "language": "python",
   "name": "python3"
  },
  "language_info": {
   "codemirror_mode": {
    "name": "ipython",
    "version": 3
   },
   "file_extension": ".py",
   "mimetype": "text/x-python",
   "name": "python",
   "nbconvert_exporter": "python",
   "pygments_lexer": "ipython3",
   "version": "3.7.1"
  }
 },
 "nbformat": 4,
 "nbformat_minor": 2
}
