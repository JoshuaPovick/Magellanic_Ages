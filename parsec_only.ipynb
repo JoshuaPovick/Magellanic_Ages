{
 "cells": [
  {
   "cell_type": "code",
   "execution_count": 3,
   "metadata": {},
   "outputs": [],
   "source": [
    "##################################\n",
    "### Import the usual libraries ###\n",
    "##################################\n",
    "\n",
    "import numpy as np\n",
    "\n",
    "import astropy\n",
    "from astropy.io import fits, ascii\n",
    "from astropy.table import Table, vstack, Column\n",
    "import astropy.coordinates as coord\n",
    "from astropy.coordinates import SkyCoord\n",
    "import astropy.units as u\n",
    "\n",
    "import pandas as pd\n",
    "\n",
    "import matplotlib\n",
    "from matplotlib.patches import Ellipse\n",
    "import matplotlib.pyplot as plt\n",
    "%matplotlib inline\n",
    "matplotlib.rcParams.update({'font.size': 16}) #make plots more readable\n",
    "\n",
    "import MagellanicStream as ms\n",
    "import astropy.units as u\n",
    "from astropy.coordinates import SkyCoord\n",
    "from uncertainties import ufloat\n",
    "\n",
    "import warnings\n",
    "warnings.filterwarnings('ignore')\n",
    "\n",
    "##############################\n",
    "### User defined functions ###\n",
    "##############################\n",
    "\n",
    "def dups(data):\n",
    "    list_data = list(data)\n",
    "    keys = []\n",
    "    values = []\n",
    "    not_uniq = list(set([x for x in list_data if list_data.count(x)>1]))\n",
    "    for i in range(len(not_uniq)):\n",
    "        keys.append(not_uniq[i])\n",
    "        values.append(np.where(data==not_uniq[i]))\n",
    "    idx = dict(zip(keys, values))\n",
    "    return not_uniq, idx\n",
    "\n",
    "def absmag(magnitude,distance,par):\n",
    "    ''' !!! Parallax must have units of mas and distances must have units of kpc!!! '''\n",
    "    absm = []\n",
    "    if par == True: #if distance is given as parallax\n",
    "        dist = np.reciprocal(distance)*1000\n",
    "        absm.append(magnitude-5.0*np.log10(dist)+5.0)\n",
    "        absm = np.squeeze(np.array(absm))\n",
    "    else: #if distance is given as distance\n",
    "        absm.append(magnitude-5.0*np.log10(distance*1000)+5.0)\n",
    "        absm = np.squeeze(np.array(absm))\n",
    "    return absm\n",
    "\n",
    "# def dist2LMC(ra, dec):\n",
    "#     ra1 = np.copy(ra)\n",
    "#     dec1 = np.copy(dec)\n",
    "#     ra1 *= np.pi/180\n",
    "#     dec1 *= np.pi/180\n",
    "#     alph0 = 81.9*np.pi/180 #ra of LMC center\n",
    "#     delt0 = -69.866667*np.pi/180 #dec of LMC center\n",
    "#     sd = np.sin(delt0)\n",
    "#     cd = np.cos(delt0)\n",
    "#     d0 = 49.9\n",
    "#     iota = 27.81*np.pi/180 #inclination\n",
    "#     pa = 146.37*np.pi/180  #position angle of line-of-nodes\n",
    "#     rho = np.arccos(cd*np.cos(dec1)*np.cos(ra1 - alph0) + sd*np.sin(dec1))\n",
    "#     phi = np.arccos(-np.cos(dec1)*np.sin(ra1 - alph0)*(1/np.sin(rho)))\n",
    "#     dis = d0*(np.cos(iota)/(np.cos(iota)*np.cos(rho)-np.sin(iota)*np.sin(rho)*np.sin(phi - pa)))\n",
    "#     rho *= (180/np.pi)\n",
    "#     phi *= (180/np.pi)    \n",
    "#     return rho, phi, dis\n",
    "\n",
    "def mad(dat):\n",
    "    return np.median(np.absolute(dat - np.median(dat)))\n",
    "\n",
    "#######################\n",
    "### Age of Universe ###\n",
    "#######################\n",
    "\n",
    "'''\n",
    "@article{riess2019large,\n",
    "  title={Large Magellanic Cloud Cepheid Standards Provide a 1\\% Foundation for the Determination of the Hubble Constant and Stronger Evidence for Physics Beyond LambdaCDM},\n",
    "  author={Riess, Adam G and Casertano, Stefano and Yuan, Wenlong and Macri, Lucas M and Scolnic, Dan},\n",
    "  journal={arXiv preprint arXiv:1903.07603},\n",
    "  year={2019}\n",
    "}\n",
    "'''\n",
    "\n",
    "#Value 74.03 \\pm 1.42 (km/s)/Mpc\n",
    "\n",
    "H0 = 74.03*(u.km/u.s)/u.Mpc\n",
    "hertz = H0.to(u.km/u.s/u.pc).to(u.km/u.s/u.km)\n",
    "tage = (1/hertz).to(u.yr)\n",
    "ageU = tage.value"
   ]
  },
  {
   "cell_type": "code",
   "execution_count": 54,
   "metadata": {},
   "outputs": [
    {
     "data": {
      "text/plain": [
       "' Metallicity used -2.6 to 0.1 steps 0.099'"
      ]
     },
     "execution_count": 54,
     "metadata": {},
     "output_type": "execute_result"
    }
   ],
   "source": [
    "#########################\n",
    "### Import fits files ###\n",
    "#########################\n",
    "\n",
    "#isochrone website http://stev.oapd.inaf.it/cgi-bin/cmd\n",
    "\n",
    "#filepath1 = '/Users/joshpovick/Desktop/Research/Magellanic_Ages/linearisochrones.dat' \n",
    "filepath2 = '/Users/joshpovick/Desktop/Research/Magellanic_Ages/logisochrones.dat' \n",
    "\n",
    "#lineariso = ascii.read(filepath1, format='basic', delimiter='\\s')\n",
    "logiso = ascii.read(filepath2, format='basic', delimiter='\\s')\n",
    "\n",
    "#lineariso = Table(lineariso)\n",
    "logiso = Table(logiso)\n",
    "parsec = logiso\n",
    "\n",
    "\n",
    "\n",
    "lmcdr16 = fits.getdata('/Users/joshpovick/Desktop/Research/Magellanic_Ages/lmc_rgbmembersdist.dr16beta.fits',1)\n",
    "clnr = np.where((lmcdr16['FE_H']>-9999.0)&(lmcdr16['AK_TARG']>-9999.0)&(lmcdr16['LOGG']>0.0)&\\\n",
    "                (lmcdr16['M_H_ERR']>-90.0))\n",
    "\n",
    "clndr16 = lmcdr16[clnr]\n",
    "\n",
    "''' Ages used 8 to 10.1 steps 0.15'''\n",
    "''' Metallicity used -2.6 to 0.1 steps 0.099'''\n",
    "\n",
    "# ### Merge both files and create a fits file\n",
    "# lineariso['sample'] = 0\n",
    "# logiso['sample'] = 1\n",
    "\n",
    "# parsec = vstack([lineariso,logiso])\n",
    "# parsec.write('/Users/joshpovick/Desktop/Research/Magellanic_Ages/parsec.fits',format='fits',overwrite=True)"
   ]
  },
  {
   "cell_type": "code",
   "execution_count": 5,
   "metadata": {},
   "outputs": [
    {
     "data": {
      "text/plain": [
       "{-2.7065159040454176,\n",
       " -2.6078044450818494,\n",
       " -2.5090868416891015,\n",
       " -2.4103742865131768,\n",
       " -2.311660280677828,\n",
       " -2.2129293610213217,\n",
       " -2.1142431189307325,\n",
       " -2.0155176935977375,\n",
       " -1.9168020664869305,\n",
       " -1.8180849879152912,\n",
       " -1.7193647289463654,\n",
       " -1.6206582170010229,\n",
       " -1.5219387918184821,\n",
       " -1.4232268739688458,\n",
       " -1.3245103676899708,\n",
       " -1.226030809599782,\n",
       " -1.1275814809196667,\n",
       " -1.0291419430034978,\n",
       " -0.9311279756399619,\n",
       " -0.8332591526254643,\n",
       " -0.735406463024618,\n",
       " -0.6378475183581431,\n",
       " -0.5404793539612457,\n",
       " -0.4440173059474202,\n",
       " -0.3481746159511458,\n",
       " -0.25289906863501377,\n",
       " -0.15785900246380286,\n",
       " -0.06489597884855043}"
      ]
     },
     "execution_count": 5,
     "metadata": {},
     "output_type": "execute_result"
    }
   ],
   "source": [
    "set(np.log10(logiso['Zini']/0.02))\n",
    "#print(set(10**logiso['logAge']))"
   ]
  },
  {
   "cell_type": "code",
   "execution_count": 6,
   "metadata": {},
   "outputs": [],
   "source": [
    "# ##################################\n",
    "# ### Checking Metallicity Range ###\n",
    "# ##################################\n",
    "\n",
    "# print(np.log10(max(parsec['Zini'])/0.02))\n",
    "# print(np.log10(min(parsec['Zini'])/0.02))"
   ]
  },
  {
   "cell_type": "markdown",
   "metadata": {},
   "source": [
    "Columns in PARSEC fits files:\n",
    "\n",
    "'Zini','logAge','Mini','int_IMF','Mass',\n",
    "'logL','logTe','logg','label','McoreTP',\n",
    "'C_O','period0','period1','pmode','Mloss',\n",
    "'tau1m','X','Y','Xc','Xn','Xo','Cexcess',\n",
    "'Z','mbolmag','umag','gmag','rmag','imag',\n",
    "'zmag','Jmag','Hmag','Ksmag','SAMPLE'"
   ]
  },
  {
   "cell_type": "markdown",
   "metadata": {},
   "source": [
    "Labels for PARSEC isochrones\n",
    "\n",
    "0 = PMS, pre main sequence\n",
    "\n",
    "1 = MS, main sequence\n",
    "\n",
    "2 = SGB, subgiant branch, or Hertzsprung gap for more intermediate+massive stars\n",
    "\n",
    "3 = RGB, red giant branch, or the quick stage of red giant for intermediate+massive stars\n",
    "\n",
    "4 = CHEB, core He-burning for low mass stars, or the very initial stage of CHeB for intermediate+massive stars\n",
    "\n",
    "5 = still CHEB, the blueward part of the Cepheid loop of intermediate+massive stars\n",
    "\n",
    "6 = still CHEB, the redward part of the Cepheid loop of intermediate+massive stars\n",
    "\n",
    "7 = EAGB, the early asymptotic giant branch, or a quick stage of red giant for massive stars\n",
    "\n",
    "8 = TPAGB, the thermally pulsing asymptotic giant branch\n",
    "\n",
    "9 = post-AGB (in preparation!)\n",
    "\n"
   ]
  },
  {
   "cell_type": "code",
   "execution_count": 7,
   "metadata": {},
   "outputs": [
    {
     "data": {
      "text/plain": [
       "'OBSOLETE NOW'"
      ]
     },
     "execution_count": 7,
     "metadata": {},
     "output_type": "execute_result"
    }
   ],
   "source": [
    "'''OBSOLETE NOW'''\n",
    "# ####################################\n",
    "# Mass-Age Relation for RGB Stars ###\n",
    "# ####################################\n",
    "\n",
    "# colmap = 'jet'\n",
    "\n",
    "# rgby = np.where(young['LABEL']==3)\n",
    "# rgbo = np.where(old['LABEL']==3)\n",
    "\n",
    "# #Young\n",
    "# plt.figure(figsize=[10,10])\n",
    "# plt.scatter(10**young['MASS'][rgby],10**(young['LOGAGE'][rgby]),c=np.log10(young['ZINI'][rgby]/0.02),cmap=colmap)\n",
    "# plt.xscale('log')\n",
    "# plt.yscale('log')\n",
    "# plt.axhline(ageU,c='k')\n",
    "# plt.colorbar()\n",
    "# plt.xlabel(r'Mass $(M_{\\odot})$')\n",
    "# plt.ylabel(r'Age $(yr)$')\n",
    "# plt.title(r'Mass-Age Relationship for PARSEC Isochrones Young (Color as $[Fe/H]$)')\n",
    "# plt.show()\n",
    "\n",
    "# #Old\n",
    "# plt.figure(figsize=[10,10])\n",
    "# plt.scatter(10**old['MASS'][rgbo],10**(old['LOGAGE'][rgbo]),c=np.log10(old['ZINI'][rgbo]/0.02),cmap=colmap)\n",
    "# plt.xscale('log')\n",
    "# plt.yscale('log')\n",
    "# plt.axhline(ageU,c='k')\n",
    "# plt.colorbar()\n",
    "# plt.xlabel(r'Mass $(M_{\\odot})$')\n",
    "# plt.ylabel(r'Age $(yr)$')\n",
    "# plt.title(r'Mass-Age Relationship for PARSEC Isochrones Old (Color as $[Fe/H]$)')\n",
    "# plt.show()"
   ]
  },
  {
   "cell_type": "code",
   "execution_count": 8,
   "metadata": {},
   "outputs": [
    {
     "data": {
      "text/plain": [
       "'OBSOLETE NOW'"
      ]
     },
     "execution_count": 8,
     "metadata": {},
     "output_type": "execute_result"
    }
   ],
   "source": [
    "'''OBSOLETE NOW'''\n",
    "\n",
    "# ###############################\n",
    "# ### Merge Both PARSEC Files ###\n",
    "# ###############################\n",
    "\n",
    "# '''All further cells should use the merged PARSEC files'''\n",
    "\n",
    "# young['SAMPLE'] = 0\n",
    "# old['SAMPLE'] = 1\n",
    "\n",
    "# monarch = vstack([young,old])\n",
    "# monarch.write('/Users/joshpovick/Desktop/Research/Magellanic_Ages/monarch.fits',format='fits',overwrite=True)"
   ]
  },
  {
   "cell_type": "code",
   "execution_count": 9,
   "metadata": {
    "scrolled": false
   },
   "outputs": [
    {
     "data": {
      "text/plain": [
       "'OBSOLETE NOW'"
      ]
     },
     "execution_count": 9,
     "metadata": {},
     "output_type": "execute_result"
    }
   ],
   "source": [
    "'''OBSOLETE NOW'''\n",
    "\n",
    "# #######################################\n",
    "# ### Mass-Age Relation for RGB Stars ###\n",
    "# #######################################\n",
    "\n",
    "# colmap = 'jet'\n",
    "\n",
    "# rgb = np.where(parsec['label']==3)\n",
    "\n",
    "# plt.figure(figsize=[10,8])\n",
    "# plt.scatter(10**parsec['Mass'][rgb],10**(parsec['logAge'][rgb]),c=np.log10(parsec['Zini'][rgb]/0.02),cmap=colmap)\n",
    "# #plt.scatter(10**monarch['MASS'][rgb],10**(monarch['LOGAGE'][rgb]),c=monarch['LOGTE'][rgb],cmap=colmap)\n",
    "# plt.xscale('log')\n",
    "# plt.yscale('log')\n",
    "# #plt.axhline(ageU,c='k')\n",
    "# plt.colorbar()\n",
    "# plt.xlabel(r'Mass $(M_{\\odot})$')\n",
    "# plt.ylabel(r'Age $(yr)$')\n",
    "# plt.title(r'Mass-Age Relationship for PARSEC Isochrones (Color as $[Fe/H]$)')\n",
    "# plt.savefig('mass_age_parsec.pdf',bbox_inches='tight')\n",
    "# plt.show()"
   ]
  },
  {
   "cell_type": "code",
   "execution_count": 10,
   "metadata": {},
   "outputs": [
    {
     "data": {
      "image/png": "[encoded data removed]",
      "text/plain": [
       "<Figure size 720x720 with 1 Axes>"
      ]
     },
     "metadata": {
      "needs_background": "light"
     },
     "output_type": "display_data"
    }
   ],
   "source": [
    "######################################\n",
    "### Mass-Age Relation with INT_IMF ###\n",
    "######################################\n",
    "\n",
    "rgb = np.where(logiso['label']==3)\n",
    "\n",
    "plt.figure(figsize=[10,10])\n",
    "#plt.scatter(10**monarch['MASS'][rgb],10**(monarch['LOGAGE'][rgb]),c=np.log10(monarch['ZINI'][rgb]/0.02),cmap=colmap)\n",
    "plt.scatter(logiso['int_IMF'][rgb],10**(logiso['logAge'][rgb]),c=np.log10(logiso['Zini'][rgb]/0.02),cmap='jet')\n",
    "#plt.xscale('log')\n",
    "plt.yscale('log')\n",
    "#plt.axhline(ageU,c='k')\n",
    "#plt.colorbar()\n",
    "plt.xlabel(r'Initial IMF')\n",
    "plt.ylabel(r'Age $(yr)$')\n",
    "plt.title(r'IMF-Age Relationship for PARSEC Isochrones (Color as $[Fe/H]$)')\n",
    "plt.show()"
   ]
  },
  {
   "cell_type": "code",
   "execution_count": 11,
   "metadata": {},
   "outputs": [
    {
     "data": {
      "text/plain": [
       "{8.0,\n",
       " 8.15,\n",
       " 8.3,\n",
       " 8.45,\n",
       " 8.6,\n",
       " 8.75,\n",
       " 8.9,\n",
       " 9.05,\n",
       " 9.2,\n",
       " 9.35,\n",
       " 9.5,\n",
       " 9.65,\n",
       " 9.8,\n",
       " 9.95,\n",
       " 10.1}"
      ]
     },
     "execution_count": 11,
     "metadata": {},
     "output_type": "execute_result"
    }
   ],
   "source": [
    "set(logiso['logAge'])"
   ]
  },
  {
   "cell_type": "code",
   "execution_count": 12,
   "metadata": {},
   "outputs": [
    {
     "data": {
      "text/plain": [
       "'OBSOLETE NOW'"
      ]
     },
     "execution_count": 12,
     "metadata": {},
     "output_type": "execute_result"
    }
   ],
   "source": [
    "'''OBSOLETE NOW'''\n",
    "\n",
    "# ############################################\n",
    "# ### Find all the different metallicities ###\n",
    "# ############################################\n",
    "\n",
    "# mets, metsidx = dups(parsec[rgb]['Zini'])"
   ]
  },
  {
   "cell_type": "code",
   "execution_count": 13,
   "metadata": {},
   "outputs": [
    {
     "data": {
      "text/plain": [
       "'OBSOLETE NOW'"
      ]
     },
     "execution_count": 13,
     "metadata": {},
     "output_type": "execute_result"
    }
   ],
   "source": [
    "'''OBSOLETE NOW'''\n",
    "\n",
    "# ###################################################\n",
    "# ### Mass-Age Relationship for all Metallicities ###\n",
    "# ###################################################\n",
    "\n",
    "# from scipy.optimize import curve_fit\n",
    "# matplotlib.cm.ScalarMappable(norm=None, cmap=None)\n",
    "\n",
    "# colmap = 'jet'\n",
    "# rgb = np.where(parsec['label']==3)\n",
    "\n",
    "# def model(x, a, b, c): \n",
    "#     return (a*(x**2)+b*(x)+c)\n",
    "\n",
    "# polynom = []\n",
    "# plt.figure(figsize=[10,10])\n",
    "# for i in range(len(mets)):\n",
    "#     which = np.where(parsec[rgb]['Zini']==mets[i])\n",
    "#     x = np.linspace(min(parsec[rgb][which]['Mass']),max(parsec[rgb][which]['Mass']),100)\n",
    "#     y = np.linspace(min(parsec[rgb][which]['logAge']),max(parsec[rgb][which]['logAge']),100)\n",
    "#     popt, pcov = curve_fit(model,x,y)\n",
    "#     polynom.append(popt)\n",
    "#     plt.plot(x[::-1],popt[0]*x**2+popt[1]*x+popt[2],label='[Fe/H] = {}'.format(round(np.log10(mets[i]/0.02),2)))\n",
    "    \n",
    "# #plt.legend()\n",
    "# plt.xlabel(r'Log(Mass) $[M_{\\odot}]$')\n",
    "# plt.ylabel(r'Log(Age) $[yr]$')\n",
    "# plt.title(r'Mass-Age Relationship for PARSEC Isochrones (Color as $[Fe/H]$)')\n",
    "# plt.show()\n",
    "\n",
    "# Table(polynom).write('/Users/joshpovick/Desktop/Research/Magellanic_Ages/massage.fits',format='fits',overwrite=True)\n"
   ]
  },
  {
   "cell_type": "code",
   "execution_count": 14,
   "metadata": {},
   "outputs": [
    {
     "data": {
      "text/plain": [
       "'OBSOLETE NOW'"
      ]
     },
     "execution_count": 14,
     "metadata": {},
     "output_type": "execute_result"
    }
   ],
   "source": [
    "'''OBSOLETE NOW'''\n",
    "\n",
    "# #############################################\n",
    "# ### Mass Age Relationship for linear ages ###\n",
    "# #############################################\n",
    "\n",
    "# rgb = np.where(lineariso['label']==3)\n",
    "# metslin, metsidxlin = dups(lineariso[rgb]['Zini'])\n",
    "\n",
    "# colmap = 'jet'\n",
    "\n",
    "\n",
    "# def model(x, a, b, c): \n",
    "#     return (a*(x**2)+b*(x)+c)\n",
    "\n",
    "# polynom = []\n",
    "# plt.figure(figsize=[10,10])\n",
    "# for i in range(len(metslin)):\n",
    "#     which = np.where(lineariso[rgb]['Zini']==metslin[i])\n",
    "#     x = np.linspace(min(lineariso[rgb][which]['Mass']),max(lineariso[rgb][which]['Mass']),100)\n",
    "#     y = np.linspace(min(lineariso[rgb][which]['logAge']),max(lineariso[rgb][which]['logAge']),100)\n",
    "#     popt, pcov = curve_fit(model,x,y)\n",
    "#     polynom.append(popt)\n",
    "#     plt.plot(x[::-1],popt[0]*x**2+popt[1]*x+popt[2],label='[Fe/H] = {}'.format(round(np.log10(metslin[i]/0.02),2)))\n",
    "    \n",
    "# plt.legend()\n",
    "# plt.xlabel(r'Log(Mass) $[M_{\\odot}]$')\n",
    "# plt.ylabel(r'Log(Age) $[yr]$')\n",
    "# plt.title(r'Mass-Age Relationship for PARSEC Isochrones (Color as $[Fe/H]$)')\n",
    "# plt.show()"
   ]
  },
  {
   "cell_type": "code",
   "execution_count": 15,
   "metadata": {},
   "outputs": [
    {
     "data": {
      "image/png": "[encoded data removed]",
      "text/plain": [
       "<Figure size 720x720 with 1 Axes>"
      ]
     },
     "metadata": {
      "needs_background": "light"
     },
     "output_type": "display_data"
    }
   ],
   "source": [
    "##########################################\n",
    "### Mass Age Relationship for log ages ###\n",
    "##########################################\n",
    "\n",
    "from scipy.optimize import curve_fit\n",
    "\n",
    "colmap = 'jet'\n",
    "rgb = np.where(logiso['label']==3)\n",
    "\n",
    "metslog, metsidxlog = dups(logiso[rgb]['Zini'])\n",
    "\n",
    "def model(x, a, b, c): \n",
    "    return (a*(x**2)+b*(x)+c)\n",
    "\n",
    "polynom = []\n",
    "plt.figure(figsize=[10,10])\n",
    "for i in range(len(metslog)):\n",
    "    which = np.where(logiso[rgb]['Zini']==metslog[i])\n",
    "    x = np.linspace(min(logiso[rgb][which]['Mass']),max(logiso[rgb][which]['Mass']),100)\n",
    "    y = np.linspace(min(logiso[rgb][which]['logAge']),max(logiso[rgb][which]['logAge']),100)\n",
    "    popt, pcov = curve_fit(model,x,y)\n",
    "    polynom.append(popt)\n",
    "    plt.plot(x[::-1],popt[0]*x**2+popt[1]*x+popt[2],label='[Fe/H] = {}'.format(round(np.log10(metslog[i]/0.02),2)))\n",
    "    \n",
    "\n",
    "plt.xlabel(r'Log(Mass) $[M_{\\odot}]$')\n",
    "plt.ylabel(r'Log(Age) $[yr]$')\n",
    "plt.title(r'Mass-Age Relationship for PARSEC Isochrones (Color as $[Fe/H]$)')\n",
    "#plt.savefig('mass_age_parsec.pdf',bbox_inches='tight')\n",
    "plt.show()\n",
    "\n",
    "polynom = Table(polynom)\n",
    "polynom.write('/Users/joshpovick/Desktop/Research/Magellanic_Ages/polynom.fits',format='fits',overwrite=True)"
   ]
  },
  {
   "cell_type": "code",
   "execution_count": 16,
   "metadata": {},
   "outputs": [],
   "source": [
    "polynom.show_in_browser(jsviewer=True)"
   ]
  },
  {
   "cell_type": "code",
   "execution_count": 17,
   "metadata": {},
   "outputs": [
    {
     "data": {
      "image/png": "[encoded data removed]",
      "text/plain": [
       "<Figure size 720x576 with 2 Axes>"
      ]
     },
     "metadata": {
      "needs_background": "light"
     },
     "output_type": "display_data"
    }
   ],
   "source": [
    "colmap = 'jet'\n",
    "\n",
    "rgb = np.where(logiso['label']==3)\n",
    "\n",
    "plt.figure(figsize=[10,8])\n",
    "plt.scatter(logiso['Mass'][rgb],(logiso['logAge'][rgb]),c=np.log10(logiso['Zini'][rgb]/0.02),cmap=colmap)\n",
    "#plt.xscale('log')\n",
    "#plt.yscale('log')\n",
    "#plt.axhline(ageU,c='k')\n",
    "plt.colorbar()\n",
    "plt.xlabel(r'Log(Mass) $(M_{\\odot})$')\n",
    "plt.ylabel(r'Log(Age) $(yr)$')\n",
    "plt.title(r'Mass-Age Relationship for PARSEC Isochrones (Color as $[Fe/H]$)')\n",
    "plt.savefig('mass_age_parsec.pdf',bbox_inches='tight')\n",
    "plt.show()"
   ]
  },
  {
   "cell_type": "code",
   "execution_count": 18,
   "metadata": {},
   "outputs": [
    {
     "data": {
      "text/plain": [
       "<TableColumns names=('Zini','logAge','Mini','int_IMF','Mass','logL','logTe','logg','label','McoreTP','C_O','period0','period1','pmode','Mloss','tau1m','X','Y','Xc','Xn','Xo','Cexcess','Z','mbolmag','Jmag','Hmag','Ksmag')>"
      ]
     },
     "execution_count": 18,
     "metadata": {},
     "output_type": "execute_result"
    }
   ],
   "source": [
    "logiso.columns"
   ]
  },
  {
   "cell_type": "code",
   "execution_count": 19,
   "metadata": {
    "scrolled": false
   },
   "outputs": [
    {
     "data": {
      "image/png": "[encoded data removed]",
      "text/plain": [
       "<Figure size 864x720 with 1 Axes>"
      ]
     },
     "metadata": {
      "needs_background": "light"
     },
     "output_type": "display_data"
    }
   ],
   "source": [
    "###################################\n",
    "### Different Age Relationships ###\n",
    "###################################\n",
    "\n",
    "#Metallicity Age\n",
    "plt.figure(figsize=[12,10])\n",
    "# plt.scatter(np.log10(logiso['Zini']/0.02)[rgb],logiso['logAge'][rgb],c=np.log10(logiso['Zini']/0.02)[rgb],cmap='jet')\n",
    "plt.scatter(np.log10(logiso['Zini']/0.02)[rgb],logiso['logAge'][rgb],c='k',cmap='jet')\n",
    "plt.ylabel(r'Log(Age) [yr]')\n",
    "plt.xlabel(r'[Fe/H]')\n",
    "plt.title(r'Metallicity Age Grid')\n",
    "plt.savefig('PARSECgrid.pdf',bbox_inches='tight')\n",
    "plt.show()\n",
    "\n",
    "# #T Age \n",
    "# plt.figure(figsize=[12,10])\n",
    "# plt.scatter(logiso['logTe'][rgb],logiso['logAge'][rgb],c=np.log10(logiso['Zini']/0.02)[rgb])\n",
    "# plt.title(r'T Age Relationship')\n",
    "# plt.ylabel(r'Log(Age) [yr]')\n",
    "# plt.xlabel(r'Log(T) [K]')\n",
    "# plt.show()\n",
    "\n",
    "# #logg Age \n",
    "# plt.figure(figsize=[12,10])\n",
    "# plt.scatter(logiso['logg'][rgb],logiso['logAge'][rgb],c=np.log10(logiso['Zini']/0.02)[rgb])\n",
    "# plt.title(r'g Age Relationship')\n",
    "# plt.ylabel(r'Log(Age) [yr]')\n",
    "# plt.xlabel(r'Log(g) [cgs]')\n",
    "# plt.show()\n",
    "\n",
    "# #J Age \n",
    "# plt.figure(figsize=[12,10])\n",
    "# plt.scatter(logiso['Jmag'][rgb],logiso['logAge'][rgb],c=np.log10(logiso['Zini']/0.02)[rgb])\n",
    "# plt.title(r'J Age Relationship')\n",
    "# plt.ylabel(r'Log(Age) [yr]')\n",
    "# plt.xlabel(r'J')\n",
    "# plt.show()\n",
    "\n",
    "# #H Age \n",
    "# plt.figure(figsize=[12,10])\n",
    "# plt.scatter(logiso['Hmag'][rgb],logiso['logAge'][rgb],c=np.log10(logiso['Zini']/0.02)[rgb])\n",
    "# plt.title(r'H Age Relationship')\n",
    "# plt.ylabel(r'Log(Age) [yr]')\n",
    "# plt.xlabel(r'H')\n",
    "# plt.show()\n",
    "\n",
    "# #Ks Age \n",
    "# plt.figure(figsize=[12,10])\n",
    "# plt.scatter(logiso['Ksmag'][rgb],logiso['logAge'][rgb],c=np.log10(logiso['Zini']/0.02)[rgb])\n",
    "# plt.title(r'Ks Age Relationship')\n",
    "# plt.ylabel(r'Log(Age) [yr]')\n",
    "# plt.xlabel(r'Ks')\n",
    "# plt.show()\n",
    "\n",
    "# #J-Ks Age\n",
    "# #J Age \n",
    "# plt.figure(figsize=[12,10])\n",
    "# plt.scatter((logiso['Jmag']-logiso['Ksmag'])[rgb],logiso['logAge'][rgb],c=np.log10(logiso['Zini']/0.02)[rgb])\n",
    "# plt.title(r'J-Ks Age Relationship')\n",
    "# plt.ylabel(r'Log(Age) [yr]')\n",
    "# plt.xlabel(r'J-Ks')\n",
    "# plt.show()"
   ]
  },
  {
   "cell_type": "code",
   "execution_count": 38,
   "metadata": {
    "scrolled": false
   },
   "outputs": [],
   "source": [
    "###############################\n",
    "### Import LinearRegression ###\n",
    "###############################\n",
    "\n",
    "#from sklearn import linear_model as lm \n",
    "import statsmodels.api as sm \n",
    "\n",
    "rgb = np.where(logiso['label']==3)\n",
    "\n",
    "####################\n",
    "### Prepare Data ###\n",
    "####################\n",
    "\n",
    "'''parameters: logTe, Hmag, [FE/H], logg'''\\\n",
    "\n",
    "clnr = np.where(logiso[rgb]['logg']<2.5)\n",
    "\n",
    "logage = np.array(logiso[rgb]['logAge'].data)\n",
    "\n",
    "J = np.array(logiso[rgb]['Jmag'].data)\n",
    "Ks = np.array(logiso[rgb]['Ksmag'].data)\n",
    "\n",
    "logteff = np.array(logiso[rgb]['logTe'].data)\n",
    "H = np.array(logiso[rgb]['Hmag'].data)\n",
    "feh = np.array(np.log10(logiso[rgb]['Zini'].data/0.02))\n",
    "logg = np.array(logiso[rgb]['logg'].data)"
   ]
  },
  {
   "cell_type": "code",
   "execution_count": 22,
   "metadata": {},
   "outputs": [],
   "source": [
    "# #####################\n",
    "# ### Linear Models ###\n",
    "# #####################\n",
    "\n",
    "#Everything\n",
    "# lin = np.array([logteff,H,feh,logg]).T\n",
    "# lin = sm.add_constant(lin)\n",
    "  \n",
    "# model = sm.OLS(logage, lin).fit()\n",
    "# predictions = model.predict(lin) \n",
    "\n",
    "# print_model = model.summary()\n",
    "# print(r'logteff,H,feh,logg:')\n",
    "# print(print_model)\n",
    "# print(model.params)\n",
    "# print(' ')\n",
    "\n",
    "# plt.figure(figsize=[15,10])\n",
    "# plt.scatter(logteff,model.predict(lin)-logage,c=feh,marker='+',s=100,cmap='jet')\n",
    "# plt.colorbar(orientation='horizontal')\n",
    "# plt.title(r'Color as [Fe/H]')\n",
    "# plt.xlabel(r'Log($T_{eff})$ [K]')\n",
    "# plt.ylabel(r'Residuals Log(Age) [yr]')\n",
    "# plt.show()\n",
    "\n",
    "# #All Linear without feh\n",
    "# lin = np.array([logteff,H,logg]).T\n",
    "# lin = sm.add_constant(lin)\n",
    "  \n",
    "# model = sm.OLS(logage, lin).fit()\n",
    "# predictionslinevery = model.predict(lin) \n",
    "\n",
    "# print_model = model.summary()\n",
    "# print(r'logteff,H,logg:')\n",
    "# print(print_model)\n",
    "# print(' ')\n",
    "\n",
    "# #All Linear without logg\n",
    "# lin = np.array([logteff,H,feh]).T\n",
    "# lin = sm.add_constant(lin)\n",
    "  \n",
    "# model = sm.OLS(logage, lin).fit()\n",
    "# predictionslinlogg = model.predict(lin) \n",
    "\n",
    "# print_model = model.summary()\n",
    "# print(r'logteff,H,feh:')\n",
    "# print(print_model)\n",
    "# print(' ')\n",
    "\n",
    "# #Color instead of temp\n",
    "# lin = np.array([(J-Ks),H,feh,logg]).T\n",
    "# lin = sm.add_constant(lin)\n",
    "  \n",
    "# model = sm.OLS(logage, lin).fit()\n",
    "# predictionslinJKs = model.predict(lin) \n",
    "\n",
    "# print_model = model.summary()\n",
    "# print(r'J-Ks,H,feh,logg:')\n",
    "# print(print_model)\n",
    "# print(' ')"
   ]
  },
  {
   "cell_type": "code",
   "execution_count": 23,
   "metadata": {
    "scrolled": false
   },
   "outputs": [],
   "source": [
    "# ###################################\n",
    "# ### Models with Quadratic Terms ###\n",
    "# ###################################\n",
    "\n",
    "# #teff**2\n",
    "# qua = np.array([logteff,H,feh,logg,logteff**2]).T\n",
    "# qua = sm.add_constant(qua)\n",
    "  \n",
    "# model = sm.OLS(logage, qua).fit()\n",
    "# predictionsquateff = model.predict(qua) \n",
    "\n",
    "# print_model = model.summary()\n",
    "# print(r'logteff,H,feh,logg,logteff**2:')\n",
    "# print(print_model)\n",
    "# print(' ')\n",
    "\n",
    "# #H**2\n",
    "# qua = np.array([logteff,H,feh,logg,H**2]).T\n",
    "# qua = sm.add_constant(qua)\n",
    "  \n",
    "# model = sm.OLS(logage, qua).fit()\n",
    "# predictionsquaH = model.predict(qua) \n",
    "\n",
    "# print_model = model.summary()\n",
    "# print(r'logteff,H,feh,logg,H**2:')\n",
    "# print(print_model)\n",
    "# print(' ')\n",
    "\n",
    "# #feh**2\n",
    "# qua = np.array([logteff,H,feh,logg,feh**2]).T\n",
    "# qua = sm.add_constant(qua)\n",
    "  \n",
    "# model = sm.OLS(logage, qua).fit()\n",
    "# predictionsquafeh = model.predict(qua) \n",
    "\n",
    "# print_model = model.summary()\n",
    "# print(r'logteff,H,feh,logg,feh**2:')\n",
    "# print(print_model)\n",
    "# print(' ')\n",
    "\n",
    "# #J-Ks**2\n",
    "# qua = np.array([J-Ks,H,feh,logg,(J-Ks)**2]).T\n",
    "# qua = sm.add_constant(qua)\n",
    "  \n",
    "# model = sm.OLS(logage, qua).fit()\n",
    "# predictionsquaJKs = model.predict(qua) \n",
    "\n",
    "# print_model = model.summary()\n",
    "# print(r'logteff,H,feh,logg,(J-Ks)**2:')\n",
    "# print(print_model)\n",
    "# print(' ')"
   ]
  },
  {
   "cell_type": "code",
   "execution_count": 24,
   "metadata": {
    "scrolled": false
   },
   "outputs": [],
   "source": [
    "# ########################\n",
    "# ### Cubic and Beyond ###\n",
    "# ########################\n",
    "\n",
    "# #Carrera Like \n",
    "# car = np.array([J-Ks,H,feh,(J-Ks)**2,feh**2,(J-Ks)**3]).T\n",
    "# car = sm.add_constant(car)\n",
    "  \n",
    "# model = sm.OLS(logage, car).fit()\n",
    "# predictionsquaJKs = model.predict(car) \n",
    "\n",
    "# print_model = model.summary()\n",
    "# print(r'J-Ks,H,feh,(J-Ks)**2,feh**2,(J-Ks)**3:')\n",
    "# print(print_model)\n",
    "# print(' ')\n",
    "\n",
    "# #Carrera Like with logg\n",
    "# car = np.array([J-Ks,H,feh,(J-Ks)**2,feh**2,(J-Ks)**3,logg]).T\n",
    "# car = sm.add_constant(car)\n",
    "  \n",
    "# model = sm.OLS(logage, car).fit()\n",
    "# predictionsqualogg = model.predict(car) \n",
    "\n",
    "# print_model = model.summary()\n",
    "# print(r'J-Ks,H,feh,(J-Ks)**2,feh**2,(J-Ks)**3,logg:')\n",
    "# print(print_model)\n",
    "# print(' ')\n",
    "\n",
    "# #Carrera Like with logg no feh\n",
    "# car = np.array([J-Ks,H,(J-Ks)**2,(J-Ks)**3,logg]).T\n",
    "# car = sm.add_constant(car)\n",
    "  \n",
    "# model = sm.OLS(logage, car).fit()\n",
    "# predictionsqualogg = model.predict(car) \n",
    "\n",
    "# print_model = model.summary()\n",
    "# print(r'J-Ks,H,(J-Ks)**2,(J-Ks)**3,logg:')\n",
    "# print(print_model)\n",
    "# print(' ')\n",
    "\n",
    "# #Carrera Like teff\n",
    "# car = np.array([logteff,H,feh,(logteff)**2,feh**2]).T\n",
    "# car = sm.add_constant(car)\n",
    "  \n",
    "# model = sm.OLS(logage, car).fit()\n",
    "# predictionscarteff = model.predict(car) \n",
    "\n",
    "# print_model = model.summary()\n",
    "# print(r'logteff,H,feh,(logteff)**2,feh**2:')\n",
    "# print(print_model)\n",
    "# print(' ')"
   ]
  },
  {
   "cell_type": "markdown",
   "metadata": {},
   "source": [
    "teff k and feh"
   ]
  },
  {
   "cell_type": "code",
   "execution_count": 25,
   "metadata": {
    "scrolled": false
   },
   "outputs": [],
   "source": [
    "# ####################\n",
    "# ### Stuff To Try ###\n",
    "# ####################\n",
    "\n",
    "# #no cross terms constant + linear + quads + cubs\n",
    "# test1 = np.array([logteff,Ks,feh,logg,logteff**2,Ks**2,feh**2,logg**2,logteff**3,Ks**3,feh**3,logg**3]).T\n",
    "# test1 = sm.add_constant(test1)\n",
    "  \n",
    "# model1 = sm.OLS(logage, test1).fit()\n",
    "# predictions1 = model1.predict(test1) \n",
    "\n",
    "# print_model1 = model.summary()\n",
    "# print(print_model1)\n",
    "\n",
    "# print(' ')\n",
    "# residual1 = predictions1 - logage\n",
    "# print(model1.params)\n",
    "# print(r'Reduced chi squared: '+str(sum(residual1**2)/len(test1.T)))\n",
    "\n",
    "# plt.figure(figsize=[15,10])\n",
    "# plt.scatter(logteff,residual1,c=feh,marker='+',s=100,cmap='jet')\n",
    "# plt.colorbar(orientation='horizontal')\n",
    "# plt.title(r'Color as [Fe/H]')\n",
    "# plt.xlabel(r'Log($T_{eff})$ [K]')\n",
    "# plt.ylabel(r'Residuals Log(Age) [yr]')\n",
    "# plt.show()\n",
    "\n",
    "# #no cross terms constant + linear + quads + cubs no Ks**3\n",
    "# test2 = np.array([logteff,Ks,feh,logg,logteff**2,Ks**2,feh**2,logg**2,logteff**3,feh**3,logg**3]).T\n",
    "# test2 = sm.add_constant(test2)\n",
    "  \n",
    "# model2 = sm.OLS(logage, test2).fit()\n",
    "# predictions2 = model2.predict(test2) \n",
    "\n",
    "# print_model2 = model2.summary()\n",
    "# print(print_model2)\n",
    "\n",
    "# print(' ')\n",
    "# residual2 = predictions2 - logage\n",
    "# print(r'Reduced chi squared: '+str(sum(residual2**2)/len(test2.T)))\n",
    "\n",
    "# plt.figure(figsize=[15,10])\n",
    "# plt.scatter(logteff,residual2,c=feh,marker='+',s=100,cmap='jet')\n",
    "# plt.colorbar(orientation='horizontal')\n",
    "# plt.title(r'Color as [Fe/H]')\n",
    "# plt.xlabel(r'Log($T_{eff})$ [K]')\n",
    "# plt.ylabel(r'Residuals Log(Age) [yr]')\n",
    "# plt.show()"
   ]
  },
  {
   "cell_type": "code",
   "execution_count": 26,
   "metadata": {
    "scrolled": true
   },
   "outputs": [],
   "source": [
    "# ##########################\n",
    "# ### David and Modified ###\n",
    "# ##########################\n",
    "\n",
    "# #without logg over 2.5\n",
    "\n",
    "# clnr = np.where((logiso['logg']<2.5)&(logiso['label']==3))\n",
    "\n",
    "# glogage = np.array(logiso[clnr]['logAge'].data)\n",
    "\n",
    "# gJ = np.array(logiso[clnr]['Jmag'].data)\n",
    "# gKs = np.array(logiso[clnr]['Ksmag'].data)\n",
    "\n",
    "# glogteff = np.array(logiso[clnr]['logTe'].data)\n",
    "# gH = np.array(logiso[clnr]['Hmag'].data)\n",
    "# gfeh = np.array(np.log10(logiso[clnr]['Zini'].data/0.02))\n",
    "# glogg = np.array(logiso[clnr]['logg'].data)\n",
    "\n",
    "# david1 = np.array([glogteff,gKs,gfeh,glogg,np.multiply(glogteff,gKs),np.multiply(glogteff,gfeh),\\\n",
    "#                    np.multiply(glogteff,glogg),np.multiply(gKs,glogg),\\\n",
    "#                    glogteff**2,gKs**2,glogg**2]).T\n",
    "# david1 = sm.add_constant(david1)\n",
    "# modeldavid1 = sm.GLS(glogage, david1).fit()\n",
    "# predictionsdavid1 = modeldavid1.predict(david1) \n",
    "\n",
    "# print_modeldavid1 = modeldavid1.summary()\n",
    "# print(print_modeldavid1)\n",
    "\n",
    "# print(' ')\n",
    "# residualdavid1 = predictionsdavid1 - glogage\n",
    "# print(r'Reduced chi squared: '+str(sum(residualdavid1**2)/(len(david1)-len(david1.T))))\n",
    "\n",
    "# plt.figure(figsize=[15,10])\n",
    "# plt.scatter(glogteff,residualdavid1,c=gfeh,marker='+',s=100,cmap='jet')\n",
    "# plt.colorbar(orientation='horizontal')\n",
    "# plt.title(r'Color as [Fe/H]')\n",
    "# plt.xlabel(r'Log($T_{eff})$ [K]')\n",
    "# plt.ylabel(r'Residuals Log(Age) [yr]')\n",
    "# plt.show()\n",
    "\n",
    "# print(np.median(np.absolute(residualdavid1-np.median(residualdavid1)))*1.4826)\n",
    "\n",
    "# #\n",
    "# david2 = np.array([glogteff,gKs,gfeh,glogg,np.multiply(glogteff,gKs),np.multiply(glogteff,gfeh),\\\n",
    "#                    np.multiply(glogteff,glogg),np.multiply(gKs,glogg),\\\n",
    "#                    glogteff**2,gKs**2,glogg**2]).T\n",
    "# david2 = sm.add_constant(david2)\n",
    "# modeldavid2 = sm.OLS(glogage, david2).fit()\n",
    "# predictionsdavid2 = modeldavid2.predict(david2) \n",
    "\n",
    "# print_modeldavid2 = modeldavid2.summary()\n",
    "# print(print_modeldavid2)\n",
    "\n",
    "# print(' ')\n",
    "# residualdavid2 = predictionsdavid2 - glogage\n",
    "# print(r'Reduced chi squared: '+str(sum(residualdavid2**2)/(len(david2)-len(david2.T))))\n",
    "\n",
    "# print(r'Another Reduced chi squared: '+str(sum(residualdavid2**2/predictionsdavid2)))\n",
    "\n",
    "# print(r'G: ' +str(2*sum(glogage-np.log(glogage/predictionsdavid2))))\n",
    "\n",
    "# plt.figure(figsize=[15,10])\n",
    "# plt.scatter(glogteff,residualdavid2,c=gfeh,marker='+',s=100,cmap='jet')\n",
    "# plt.colorbar(orientation='horizontal')\n",
    "# plt.title(r'Color as [Fe/H]')\n",
    "# plt.xlabel(r'Log($T_{eff})$ [K]')\n",
    "# plt.ylabel(r'Residuals Log(Age) [yr]')\n",
    "# plt.savefig('PARSECresiduals.pdf',bbox_inches='tight')\n",
    "# plt.show()"
   ]
  },
  {
   "cell_type": "code",
   "execution_count": 27,
   "metadata": {},
   "outputs": [],
   "source": [
    "# print(max(residualdavid1))\n",
    "# print(min(residualdavid1))\n",
    "# print(max(residualdavid1)-min(residualdavid1))"
   ]
  },
  {
   "cell_type": "code",
   "execution_count": 28,
   "metadata": {
    "scrolled": false
   },
   "outputs": [],
   "source": [
    "# # carsmc = np.array([glogteff,gKs,gfeh,glogg,glogteff**2,gfeh**2]).T\n",
    "# carsmc = np.array([glogteff,gKs,gfeh,glogteff**2,gfeh**2,glogteff**3]).T\n",
    "# carsmc = sm.add_constant(carsmc)\n",
    "# modelcarsmc = sm.OLS(glogage, carsmc).fit()\n",
    "# predictionscarsmc = modelcarsmc.predict(carsmc) \n",
    "\n",
    "# print_modelcarsmc = modelcarsmc.summary()\n",
    "# print(print_modelcarsmc)\n",
    "\n",
    "# print(' ')\n",
    "# residualcarsmc = predictionscarsmc - glogage\n",
    "# print(r'Reduced chi squared: '+str(sum(residualcarsmc**2)/(len(carsmc)-len(carsmc.T))))\n",
    "\n",
    "# print(r'Another Reduced chi squared: '+str(sum(residualcarsmc**2/predictionscarsmc)))\n",
    "\n",
    "# print(r'G: ' +str(2*sum(glogage-np.log(glogage/predictionscarsmc))))\n",
    "\n",
    "# plt.figure(figsize=[15,10])\n",
    "# plt.scatter(glogteff,residualcarsmc,c=gfeh,marker='+',s=100,cmap='jet')\n",
    "# plt.colorbar(orientation='horizontal')\n",
    "# plt.title(r'Color as [Fe/H]')\n",
    "# plt.xlabel(r'Log($T_{eff})$ [K]')\n",
    "# plt.ylabel(r'Residuals Log(Age) [yr]')\n",
    "# plt.show()\n",
    "# print(modelcarsmc.params)"
   ]
  },
  {
   "cell_type": "code",
   "execution_count": 29,
   "metadata": {},
   "outputs": [],
   "source": [
    "# print(max(residualcarsmc))\n",
    "# print(min(residualcarsmc))\n",
    "# print(max(residualcarsmc)-min(residualcarsmc))"
   ]
  },
  {
   "cell_type": "code",
   "execution_count": 30,
   "metadata": {},
   "outputs": [],
   "source": [
    "# print(np.std(residualcarsmc))"
   ]
  },
  {
   "cell_type": "code",
   "execution_count": 31,
   "metadata": {},
   "outputs": [],
   "source": [
    "# 18**2"
   ]
  },
  {
   "cell_type": "code",
   "execution_count": 32,
   "metadata": {},
   "outputs": [],
   "source": [
    "# print(np.corrcoef(np.array([glogteff,gKs,gfeh,glogg,np.multiply(glogteff,gKs),np.multiply(glogteff,gfeh),\\\n",
    "#                    np.multiply(glogteff,glogg),np.multiply(gKs,glogg),\\\n",
    "#                    glogteff**2,gKs**2,glogg**2]).T)[5])"
   ]
  },
  {
   "cell_type": "code",
   "execution_count": 35,
   "metadata": {},
   "outputs": [],
   "source": [
    "# pmodl = np.array([glogteff,gKs,gfeh,glogg,glogteff**2,gKs**2,gfeh**2,glogg**2,np.multiply(gKs,glogg),\n",
    "#                  np.multiply(glogteff,gKs)]).T\n",
    "\n",
    "# pmodl = sm.add_constant(pmodl)\n",
    "# model = sm.OLS(glogage, pmodl).fit()\n",
    "# predictions = model.predict(pmodl) \n",
    "# residual = predictions - glogage\n",
    "# print_model = model.summary()\n",
    "# print(print_model)\n",
    "# print(model.params)\n",
    "\n",
    "# plt.figure(figsize=[15,10])\n",
    "# plt.scatter(glogteff,residual,c=gfeh,marker='+',s=100,cmap='jet')\n",
    "# plt.gca().invert_xaxis()\n",
    "# plt.colorbar(orientation='horizontal')\n",
    "# plt.title(r'Color as [Fe/H]')\n",
    "# plt.xlabel(r'Log($T_{eff})$ [K]')\n",
    "# plt.ylabel(r'Residuals Log(Age) [yr]')\n",
    "# plt.show()\n",
    "\n",
    "#print(mad(residual))"
   ]
  },
  {
   "cell_type": "code",
   "execution_count": 39,
   "metadata": {},
   "outputs": [
    {
     "data": {
      "text/plain": [
       "<TableColumns names=('Zini','logAge','Mini','int_IMF','Mass','logL','logTe','logg','label','McoreTP','C_O','period0','period1','pmode','Mloss','tau1m','X','Y','Xc','Xn','Xo','Cexcess','Z','mbolmag','Jmag','Hmag','Ksmag')>"
      ]
     },
     "execution_count": 39,
     "metadata": {},
     "output_type": "execute_result"
    }
   ],
   "source": [
    "parsec.columns"
   ]
  },
  {
   "cell_type": "markdown",
   "metadata": {},
   "source": [
    "$\\huge{\\textbf{Generate and Test All Models}}$"
   ]
  },
  {
   "cell_type": "code",
   "execution_count": 50,
   "metadata": {},
   "outputs": [],
   "source": [
    "import itertools as it\n",
    "\n",
    "glogteff = parsec[rgb]['logTe']\n",
    "gKs = parsec[rgb]['Ksmag']\n",
    "gfeh = np.log10(parsec[rgb]['Zini']/0.02)\n",
    "glogg = parsec[rgb]['logg']\n",
    "glogage = parsec[rgb]['logAge']\n",
    "\n",
    "\n",
    "y1 = glogteff\n",
    "y2 = gKs\n",
    "y3 = gfeh\n",
    "y4 = glogg\n",
    "y12 = np.multiply(y1,y2)\n",
    "y13 = np.multiply(y1,y3)\n",
    "y14 = np.multiply(y1,y4)\n",
    "y23 = np.multiply(y2,y3)\n",
    "y24 = np.multiply(y2,y4)\n",
    "y34 = np.multiply(y3,y4)\n",
    "y1sq = y1**2\n",
    "y2sq = y2**2\n",
    "y3sq = y3**2\n",
    "y4sq = y4**2\n",
    "\n",
    "models = []\n",
    "models_str = []\n",
    "all_var_str = ['y1','y2','y3','y4','y12','y13','y14','y23','y24','y34','y1sq','y2sq','y3sq','y4sq']\n",
    "all_var = [y1,y2,y3,y4,y12,y13,y14,y23,y24,y34,y1sq,y2sq,y3sq,y4sq]\n",
    "for i in range(4, len(all_var)+1):\n",
    "    for subset in it.combinations(all_var,i):\n",
    "        models.append(subset)\n",
    "    for subset_str in it.combinations(all_var_str,i):\n",
    "        models_str.append(np.array(subset_str))\n",
    "    \n",
    "idx = []\n",
    "for j in range(len(models_str)):\n",
    "    if models_str[j][0]=='y1' and models_str[j][1]=='y2' and models_str[j][2]=='y3' and models_str[j][3]=='y4':\n",
    "        idx.append(j)\n",
    "        \n",
    "models = np.array(models)[idx]\n",
    "models_str_good = np.array(models_str)[idx]"
   ]
  },
  {
   "cell_type": "code",
   "execution_count": 65,
   "metadata": {},
   "outputs": [
    {
     "name": "stdout",
     "output_type": "stream",
     "text": [
      "0.007780979977408009\n",
      "[array(['y1', 'y2', 'y3', 'y4', 'y12', 'y13', 'y23', 'y24', 'y34', 'y2sq',\n",
      "       'y3sq', 'y4sq'], dtype='<U4')]\n",
      "[array([ 2.07483027e+01,  1.25330396e+00,  4.38762008e+00,  3.15757396e+00,\n",
      "       -6.92771748e+00, -3.98506724e-01, -8.32023943e-01, -8.80250421e-03,\n",
      "       -5.27532676e-01,  5.78640717e-02,  1.16480914e-01,  4.97348135e-02,\n",
      "        6.19034227e-01])]\n"
     ]
    }
   ],
   "source": [
    "######################\n",
    "### Fit All Models ###\n",
    "######################\n",
    "\n",
    "model_mads = []\n",
    "model_params = []\n",
    "model_res = []\n",
    "#test = models[0:25]\n",
    "for i in range(len(models)):\n",
    "    pmodl = np.array(models[i]).T\n",
    "    pmodl = sm.add_constant(pmodl)\n",
    "    model = sm.OLS(glogage,pmodl).fit()\n",
    "    predictions = model.predict(pmodl)\n",
    "    residual = predictions - glogage\n",
    "    model_res.append(max(np.absolute(residual)))\n",
    "    model_mads.append(mad(residual))\n",
    "    model_params.append(np.asarray(model.params))\n",
    "    \n",
    "best = np.where(model_mads == min(model_mads))\n",
    "print(min(model_mads))\n",
    "print(models_str_good[best])\n",
    "print(np.asarray(model_params)[best])"
   ]
  },
  {
   "cell_type": "code",
   "execution_count": 72,
   "metadata": {},
   "outputs": [],
   "source": [
    "def bestparsec(x1,x2,x3,x4):\n",
    "    p = [ 2.07483027e+01,  1.25330396e+00,  4.38762008e+00,  3.15757396e+00,\\\n",
    "       -6.92771748e+00, -3.98506724e-01, -8.32023943e-01, -8.80250421e-03,\\\n",
    "       -5.27532676e-01,  5.78640717e-02,  1.16480914e-01,  4.97348135e-02,\\\n",
    "        6.19034227e-01]\n",
    "    \n",
    "    return p[0]+p[1]*x1+p[2]*x2+p[3]*x3+p[4]*x4+p[5]*np.multiply(x1,x2)+p[6]*np.multiply(x1,x3)+\\\n",
    "p[7]*np.multiply(x2,x3)+p[8]*np.multiply(x2,x4)+p[9]*np.multiply(x3,x4)+p[10]*(x2**2)+p[11]*(x3**2)+p[12]*(x4**2)"
   ]
  },
  {
   "cell_type": "code",
   "execution_count": 73,
   "metadata": {},
   "outputs": [
    {
     "data": {
      "text/plain": [
       "Index(['logage', 'y1', 'y2', 'y3', 'y4', 'y12', 'y13', 'y14', 'y23', 'y24',\n",
       "       'y34', 'y1sq', 'y2sq', 'y3sq', 'y4sq', 'y1cu', 'y2cu', 'y3cu', 'y4cu'],\n",
       "      dtype='object')"
      ]
     },
     "execution_count": 73,
     "metadata": {},
     "output_type": "execute_result"
    }
   ],
   "source": [
    "#########################################\n",
    "### Dataframe With All Possible Terms ### \n",
    "#########################################\n",
    "\n",
    "mod_df = pd.DataFrame()\n",
    "mod_df['logage'] = glogage\n",
    "mod_df['y1'] = glogteff\n",
    "mod_df['y2'] = gKs\n",
    "mod_df['y3'] = gfeh\n",
    "mod_df['y4'] = glogg\n",
    "mod_df['y12'] = np.multiply(glogteff,gKs)\n",
    "mod_df['y13'] = np.multiply(glogteff,gfeh)\n",
    "mod_df['y14'] = np.multiply(glogteff,glogg)\n",
    "mod_df['y23'] = np.multiply(gKs,gfeh)\n",
    "mod_df['y24'] = np.multiply(gKs,glogg)\n",
    "mod_df['y34'] = np.multiply(gfeh,glogg)\n",
    "mod_df['y1sq'] = glogteff**2\n",
    "mod_df['y2sq'] = gKs**2\n",
    "mod_df['y3sq'] = gfeh**2\n",
    "mod_df['y4sq'] = glogg**2\n",
    "mod_df['y1cu'] = glogteff**3\n",
    "mod_df['y2cu'] = gKs**3\n",
    "mod_df['y3cu'] = gfeh**3\n",
    "mod_df['y4cu'] = glogg**3\n",
    "mod_df.columns"
   ]
  },
  {
   "cell_type": "code",
   "execution_count": 74,
   "metadata": {},
   "outputs": [
    {
     "name": "stdout",
     "output_type": "stream",
     "text": [
      "          y1        y2        y3        y4\n",
      "y1  0.001932  0.059860 -0.015738  0.027632\n",
      "y2  0.059860  3.299169 -0.020930  1.308194\n",
      "y3 -0.015738 -0.020930  0.646813  0.001079\n",
      "y4  0.027632  1.308194  0.001079  0.563543\n"
     ]
    }
   ],
   "source": [
    "parseccov = mod_df[['y1','y2','y3','y4']].cov()\n",
    "print(parseccov)"
   ]
  },
  {
   "cell_type": "code",
   "execution_count": null,
   "metadata": {},
   "outputs": [],
   "source": []
  },
  {
   "cell_type": "code",
   "execution_count": 78,
   "metadata": {
    "scrolled": true
   },
   "outputs": [],
   "source": [
    "#################\n",
    "### Add Noise ###\n",
    "#################\n",
    "\n",
    "from scipy.stats import skewnorm, skew\n",
    "from scipy.special import erf\n",
    "\n",
    "def mad(dat):\n",
    "    return np.median(np.absolute(dat-np.median(dat)))\n",
    "\n",
    "def noisyparsec(lgT,lgTERR,ks,ksERR,feh,fehERR,lgg,lggERR):\n",
    "    Tnoise = np.random.normal(0, 0.434*(lgTERR/lgT)) #logTeff\n",
    "    Knoise = np.random.normal(0, ksERR) #Ks\n",
    "    fehnoise = np.random.normal(0, ksERR)\n",
    "    gnoise = np.random.normal(0, lggERR) #logg\n",
    "    Tnew = lgT + ((-1)**np.random.randint(2))*Tnoise\n",
    "    Knew = ks + ((-1)**np.random.randint(2))*Knoise\n",
    "    FEHnew = feh + ((-1)**np.random.randint(2))*fehnoise\n",
    "    gnew = lgg + ((-1)**np.random.randint(2))*gnoise\n",
    "    return Tnew, Knew, FEHnew, gnew"
   ]
  },
  {
   "cell_type": "code",
   "execution_count": 79,
   "metadata": {},
   "outputs": [],
   "source": [
    "terr = np.mean(0.434*(np.log(clndr16['TEFF_ERR'])/np.log10(clndr16['TEFF'])))\n",
    "kserr = np.mean(clndr16['K_ERR'])\n",
    "feherr = np.mean(clndr16['FE_H_ERR'])\n",
    "lggerr = np.mean(clndr16['LOGG_ERR'])\n",
    "\n",
    "devs = []\n",
    "\n",
    "for i in range(len(parsec[rgb])):\n",
    "    lgT = parsec[rgb]['logTe']\n",
    "    lgTERR = terr\n",
    "    ks = parsec[rgb]['Ksmag']\n",
    "    ksERR = kserr\n",
    "    feh = np.log10(parsec[rgb]['Zini']/0.02)\n",
    "    fehERR = feherr\n",
    "    lgg = parsec[rgb]['logg']\n",
    "    lggERR = lggerr\n",
    "    \n",
    "    ages = []\n",
    "    for j in range(10):\n",
    "        nlgT,nks,nfeh,nlgg = noisyparsec(lgT,lgTERR,ks,ksERR,feh,fehERR,lgg,lggERR)\n",
    "        ages.append(bestparsec(nlgT,nks,nfeh,nlgg))\n",
    "    \n",
    "    \n",
    "    devs.append(1.4826*mad(ages))"
   ]
  },
  {
   "cell_type": "code",
   "execution_count": 80,
   "metadata": {},
   "outputs": [
    {
     "data": {
      "image/png": "[encoded data removed]",
      "text/plain": [
       "<Figure size 720x720 with 1 Axes>"
      ]
     },
     "metadata": {
      "needs_background": "light"
     },
     "output_type": "display_data"
    }
   ],
   "source": [
    "age_test = bestparsec(parsec[rgb]['logTe'],parsec[rgb]['Ksmag'],np.log10(parsec[rgb]['Zini']/0.02),\\\n",
    "                      parsec[rgb]['logg'])\n",
    "\n",
    "plt.figure(figsize=[10,10])\n",
    "plt.scatter(age_test,devs,c='k',marker='+',label='Povick')\n",
    "plt.xlim(7,13)\n",
    "plt.axvline(10.13+np.mean(devs),c='k')\n",
    "plt.xlabel(r'Log(Age) [yr]')\n",
    "plt.ylabel(r'Uncertainty')\n",
    "plt.ylim(0.0,1.0)\n",
    "plt.title(r'Uncertainty vs Age')\n",
    "plt.show()"
   ]
  },
  {
   "cell_type": "code",
   "execution_count": null,
   "metadata": {},
   "outputs": [],
   "source": []
  }
 ],
 "metadata": {
  "kernelspec": {
   "display_name": "Python 3",
   "language": "python",
   "name": "python3"
  },
  "language_info": {
   "codemirror_mode": {
    "name": "ipython",
    "version": 3
   },
   "file_extension": ".py",
   "mimetype": "text/x-python",
   "name": "python",
   "nbconvert_exporter": "python",
   "pygments_lexer": "ipython3",
   "version": "3.7.1"
  }
 },
 "nbformat": 4,
 "nbformat_minor": 2
}
